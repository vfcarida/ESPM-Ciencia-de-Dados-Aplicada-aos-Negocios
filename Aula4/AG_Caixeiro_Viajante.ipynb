{
  "nbformat": 4,
  "nbformat_minor": 0,
  "metadata": {
    "colab": {
      "provenance": []
    },
    "kernelspec": {
      "name": "python3",
      "display_name": "Python 3"
    }
  },
  "cells": [
    {
      "cell_type": "markdown",
      "metadata": {
        "id": "emB554sXMMTB"
      },
      "source": [
        "# **Algoritmos Genéticos**\n",
        "> Inspirados em termos da biologia evolutiva, tais como hereditariedade, seleção natural, cruzamento e mutação, os Algoritmos Genéticos são uma técnica de Computação Evolucionária centrada na busca de soluções para problemas de otimização.\n",
        "\n",
        "> O presente notebook colab, pretende introduzir a aplicação de Algorimos Genéticos. A presente codificação foi baseada na biblioteca deap e nos exemplos disponíveis em {1}.\n",
        ">* Abaixo podemos visualizar a importação dos pacotes e módulos necessários.\n",
        "---\n",
        "{1} DEAP. Distributed Evolutionary Algorithms in Python. Disponível em: https://deap.readthedocs.io/en/master/."
      ]
    },
    {
      "cell_type": "code",
      "metadata": {
        "id": "M1San9e6aai3",
        "colab": {
          "base_uri": "https://localhost:8080/"
        },
        "outputId": "f6a81dfb-7321-4ae8-c06a-c0d3d0aba972"
      },
      "source": [
        "#[1] Importando pacotes e módulos\n",
        "\n",
        "import random\n",
        "import numpy\n",
        "\n",
        "!pip install deap # Instalação de DEAP\n",
        "from deap import algorithms\n",
        "from deap import base\n",
        "from deap import creator\n",
        "from deap import tools"
      ],
      "execution_count": null,
      "outputs": [
        {
          "output_type": "stream",
          "name": "stdout",
          "text": [
            "Collecting deap\n",
            "  Downloading deap-1.4.1-cp310-cp310-manylinux_2_5_x86_64.manylinux1_x86_64.manylinux_2_17_x86_64.manylinux2014_x86_64.whl (135 kB)\n",
            "\u001b[2K     \u001b[90m━━━━━━━━━━━━━━━━━━━━━━━━━━━━━━━━━━━━━━━\u001b[0m \u001b[32m135.4/135.4 kB\u001b[0m \u001b[31m3.0 MB/s\u001b[0m eta \u001b[36m0:00:00\u001b[0m\n",
            "\u001b[?25hRequirement already satisfied: numpy in /usr/local/lib/python3.10/dist-packages (from deap) (1.23.5)\n",
            "Installing collected packages: deap\n",
            "Successfully installed deap-1.4.1\n"
          ]
        }
      ]
    },
    {
      "cell_type": "markdown",
      "metadata": {
        "id": "fI55ISiXbbQm"
      },
      "source": [
        "#**Seleção e Formulação do Problema**\n",
        "> Simplificando um pouco, os Algortimos Genéticos buscam por soluções próximas do ótimo. Logo, são comumente empregados a problemas para os quais não existem algoritmos conhecidos que encontrem a solução ótima em tempo polinomial.\n",
        "\n",
        "> Dessa forma, nada mais natural do que escolher um desses problemas para aplicar um algoritmo genético. Um exemplo clássico, bastante connhecido dos estudantes de cursos de computação, é o **Problema do Caixeiro Viajante**.\n",
        "\n",
        "> O **Problema do Caixeiro Viajante**, ou *Travelling Salesman Problem*, reside no objetivo de encontrar a menor rota possível para visitar um conjunto de cidades, passando por cada uma delas uma única vez, e retornar à origem.\n",
        "* O espaço de estados para esse problema pode ser representado por um grafo completamente conexo. Os vértices são as cidades e as arestas representam vias entre cidades, havendo uma distância (custo) associada.\n",
        "* O trecho de código abaixo gera um grafo para o problema do caixeiro viajante.\n",
        "  * O usuário pode escolher o número de cidades;\n",
        "  * O grafo é gerado em uma matriz bidimensional, sendo as distâncias valores inteiros aleatórios no intervalo [10, 100].\n"
      ]
    },
    {
      "cell_type": "code",
      "metadata": {
        "id": "G1o2VJlC-mMI",
        "colab": {
          "base_uri": "https://localhost:8080/"
        },
        "outputId": "3029b1be-42d4-4233-8220-85faf17e0870"
      },
      "source": [
        "#[2] Geração do grafo para o problema do caixeiro\n",
        "\n",
        "# função graphTSP(numCities, minDist, maxDist)\n",
        "# parâmetros:\n",
        "#   numCities: número de cities\n",
        "#   minDist: menor valor de distância\n",
        "#   maxDist: maior valor de distância\n",
        "# retorno:\n",
        "#   cities: grafo de cidades (Matriz numCities X numCities). As distância\n",
        "#   entre duas cidades são determinadas aleatoriamente entre minDist e maxDist\n",
        "def graphTSP(numCities, minDist, maxDist):\n",
        "  cities = numpy.zeros((numCities, numCities), dtype = int)\n",
        "  for i in range(numCities):\n",
        "    for j in range(numCities):\n",
        "      if (j>i):\n",
        "        cities[i, j] = random.randint(minDist, maxDist)\n",
        "      elif (j<i):\n",
        "        cities[i, j] = cities[j, i]\n",
        "  return cities\n",
        "\n",
        "numCities = 5     #  Número de cidade inicial\n",
        "\n",
        "while(True):\n",
        "  numCities = int(input('Digite o número de cidades: '))\n",
        "  if (numCities > 4):\n",
        "    break\n",
        "  else:\n",
        "    print('O número de cidades deve ser maior que 4!')\n",
        "\n",
        "cities = graphTSP(numCities, 10, 100)\n",
        "print('Grafo:\\n', cities)"
      ],
      "execution_count": null,
      "outputs": [
        {
          "output_type": "stream",
          "name": "stdout",
          "text": [
            "Digite o número de cidades: 5\n",
            "Grafo:\n",
            " [[ 0 44 40 21 19]\n",
            " [44  0 62 33 12]\n",
            " [40 62  0 78 70]\n",
            " [21 33 78  0 34]\n",
            " [19 12 70 34  0]]\n"
          ]
        }
      ]
    },
    {
      "cell_type": "markdown",
      "metadata": {
        "id": "ZK8W-fLgBjLr"
      },
      "source": [
        "# **População e Indivíduos**\n",
        "> A **população** é o conjunto de indivíduos que estão sendo cogitados como solução e que serão usados para criar o novo conjunto de indivíduos para análise.\n",
        "\n",
        "> O **indivíduo**, também chamado de cromossomo ou string, é uma possível solução para um dado problema. Cada **indivíduo** é um conjunto de parâmetros (genes), cuja representação depende do domínio do problema.\n",
        "  * **Genótipo** é a sequência de genes. No caso do problema do caixeiro, cada gene é uma cidade (número do vértice).\n",
        "    * Exemplo: [0, 2, 1, 4, 3] é um genótipo de indivíduo para o problema do caixeiro com 5 cidades.\n",
        "  * **Fenótico** é o produto da interação de todos os genes.\n",
        "    * Para o caixeiro seria a rota."
      ]
    },
    {
      "cell_type": "code",
      "metadata": {
        "id": "wfwLGOdnG-EJ"
      },
      "source": [
        "#[3] Definição da Geração dos Indivíduos\n",
        "\n",
        "creator.create(\"FitnessMin\", base.Fitness, weights=(-1.0,)) # minimizar = peso negativo\n",
        "creator.create(\"Individual\", list, fitness=creator.FitnessMin)\n",
        "\n",
        "toolbox = base.Toolbox()\n",
        "# gerador de parâmetros\n",
        "toolbox.register(\"attr_int\", random.randint, 0, numCities-1)\n",
        "\n",
        "# define como os indivíduos/população é gerada\n",
        "toolbox.register(\"individual\", tools.initRepeat, creator.Individual, toolbox.attr_int, numCities)\n",
        "toolbox.register(\"population\", tools.initRepeat, list, toolbox.individual)"
      ],
      "execution_count": null,
      "outputs": []
    },
    {
      "cell_type": "markdown",
      "metadata": {
        "id": "3GNerpXDRHvY"
      },
      "source": [
        "#**Avaliação da Aptidão**\n",
        "> A Função de Aptidão ou Fitness mede o grau de aptidão de cada indivíduo da população.\n",
        "\n",
        "> O grau de aptidão é a qualidade da solução (indivíduo) frente ao problema, ou seja, o quão próximo um indivíduo está da solução desejada ou quão boa é esta solução.\n",
        "\n",
        "> Para o **Problema do Caixeiro Viajante** a aptidão está associada a menor rota. Assim, abaixo temos a função que mede o custo de uma rota (indivíduo)."
      ]
    },
    {
      "cell_type": "code",
      "metadata": {
        "id": "Xj10GoxwRGg4"
      },
      "source": [
        "#[4] Função para a avaliação da aptidão\n",
        "\n",
        "# Função evalRoute(individual)\n",
        "# parâmetros:\n",
        "#   individual: uma rota\n",
        "# retorno:\n",
        "#   (cost, ): tupla contendo apenas o custo da rota (cost).\n",
        "#             * precisa ser uma tupla devido a exigências do pacote DEAP\n",
        "def evalRoute(individual):\n",
        "  cost = 0\n",
        "  for i in range(1, len(individual)):\n",
        "    if (individual.count(individual[i])>1):\n",
        "      cost = cost + 1000000 # penalidade por repetir cidade\n",
        "    cost = cost + cities[individual[i-1], individual[i]]\n",
        "  cost = cost + cities[individual[i],individual[0]]\n",
        "  return (cost,)"
      ],
      "execution_count": null,
      "outputs": []
    },
    {
      "cell_type": "markdown",
      "metadata": {
        "id": "_IVtotAVT8AH"
      },
      "source": [
        "#**Processamento do Algoritmo Genético**\n",
        "> A estrutura básica de um algoritmo genético pode ser resumida pela Figura 1.\n",
        "\n",
        "Figura 1. Estrutura Básica dos Algoritmos Genéticos\n",
        "\n",
        "<img src=\"https://drive.google.com/uc?id=1gRhZfpbF3_B5-SwbstABFxErRzGcBumT\" width=\"500\">\n",
        "\n",
        "\n",
        "> **Gerações**\n",
        "* A cada iteração do algoritmo, um novo conjunto de indivíduos é gerado a partir da população anterior.\n",
        "* Cada novo conjunto é chamado de “Geração”.\n",
        "* Através da criação de uma grande quantidade de gerações que é possível obter resultados dos Algoritmos Genéticos.\n",
        "\n",
        ">**Avaliação de Aptidão**\n",
        "* A função de aptidão é aplicada ao fenótipo do indivíduo.\n",
        "\n",
        ">**Seleção**\n",
        "* Selecionar os indivíduos sobre os quais serão aplicados os operadores genéticos.\n",
        "* Escolhe preferencialmente, embora não exclusivamente, indivíduos com maior aptidão.\n",
        "* Há diversas técnicas de seleção, entre elas há o método de seleção por Roleta e o método de seleção por Torneio.\n",
        "\n",
        ">**Cruzamento**\n",
        "* Também conhecida por Crossover ou Recombinação.\n",
        "* Recombinação de características dos pais (Figura 2).\n",
        "  * Permite que as próximas gerações herdem essas características.\n",
        "* Escolhe dois indivíduos e troca trechos dos cromossomos entre eles.\n",
        "\n",
        "Figura 2. Crossover de 1 ponto\n",
        "\n",
        "<img src=\"https://drive.google.com/uc?id=13Sw3R_kGl4YqXEy3IGoPrYt1Tm9ExVPp\" width=\"500\">\n",
        "\n",
        "\n",
        ">**Mutação**\n",
        "* Introdução e manutenção da diversidade genética.\n",
        "* Altera aleatoriamente um ou mais genes no cromossomo (Figura 3).\n",
        "\n",
        "\n",
        "Figura 3. Mutação de um gene\n",
        "\n",
        "<img src=\"https://drive.google.com/uc?id=1FEJC7WppmF1oDNEF-mLRbRaeciVdeh_b\" width=\"250\">\n",
        "\n",
        "\n"
      ]
    },
    {
      "cell_type": "code",
      "metadata": {
        "colab": {
          "base_uri": "https://localhost:8080/"
        },
        "id": "xVlSENgQUOUR",
        "outputId": "f8a281f9-1857-46e6-aabd-f1e7ad9df4cb"
      },
      "source": [
        "#[5] Processamento do Algoritmo Genético\n",
        "\n",
        "# Definindo avaliação de aptidão, seleção, cruzamento e mutação\n",
        "toolbox.register(\"evaluate\", evalRoute)\n",
        "toolbox.register(\"select\", tools.selTournament, tournsize=3) # seleção por torneio\n",
        "toolbox.register(\"mate\", tools.cxOnePoint) # um ponto de cruzamento\n",
        "toolbox.register(\"mutate\", tools.mutUniformInt, low=0, up=numCities-1, indpb=0.05)\n",
        "\n",
        "def main():\n",
        "  print('Execução do algoritmo genético:')\n",
        "\n",
        "  # random.seed(64)\n",
        "  NGEN = 100     # número de gerações\n",
        "  MU = 50        # tamanho da população\n",
        "  LAMBDA = 100   # número de filhos gerados\n",
        "  CXPB = 0.7     # probabilidade de cruzamento\n",
        "  MUTPB = 0.3    # probabilidade de mutação\n",
        "\n",
        "  pop = toolbox.population(n=MU)\n",
        "  hof = tools.ParetoFront()\n",
        "  stats = tools.Statistics(lambda ind: ind.fitness.values)\n",
        "  stats.register(\"avg\", numpy.mean, axis=0)\n",
        "  stats.register(\"std\", numpy.std, axis=0)\n",
        "  stats.register(\"min\", numpy.min, axis=0)\n",
        "  stats.register(\"max\", numpy.max, axis=0)\n",
        "\n",
        "  algorithms.eaMuPlusLambda(pop, toolbox, MU, LAMBDA, CXPB, MUTPB, NGEN, stats,\n",
        "                            halloffame=hof)\n",
        "\n",
        "  print('\\nRota:', hof[0],'\\nCusto:', evalRoute(hof[0])[0])\n",
        "  return pop, stats, hof\n",
        "\n",
        "if __name__ == \"__main__\":\n",
        "    main()"
      ],
      "execution_count": null,
      "outputs": [
        {
          "output_type": "stream",
          "name": "stdout",
          "text": [
            "Execução do algoritmo genético:\n",
            "gen\tnevals\tavg         \tstd              \tmin   \tmax       \n",
            "0  \t50    \t[2580146.08]\t[918451.40905173]\t[244.]\t[4000173.]\n",
            "1  \t100   \t[1560154.04]\t[725503.79697468]\t[221.]\t[3000144.]\n",
            "2  \t100   \t[1160158.58]\t[674054.75972835]\t[205.]\t[2000205.]\n",
            "3  \t100   \t[700168.96] \t[670773.53829163]\t[205.]\t[2000130.]\n",
            "4  \t100   \t[440179.58] \t[535114.28032412]\t[176.]\t[2000074.]\n",
            "5  \t100   \t[200190.44] \t[399956.23078813]\t[176.]\t[1000184.]\n",
            "6  \t100   \t[60192.68]  \t[310469.25624322]\t[176.]\t[2000136.]\n",
            "7  \t100   \t[184.9]     \t[15.22924818]    \t[176.]\t[244.]    \n",
            "8  \t100   \t[177.16]    \t[5.6828162]      \t[176.]\t[205.]    \n",
            "9  \t100   \t[20176.68]  \t[140004.76]      \t[176.]\t[1000210.]\n",
            "10 \t100   \t[176.]      \t[0.]             \t[176.]\t[176.]    \n",
            "11 \t100   \t[176.]      \t[0.]             \t[176.]\t[176.]    \n",
            "12 \t100   \t[176.]      \t[0.]             \t[176.]\t[176.]    \n",
            "13 \t100   \t[176.]      \t[0.]             \t[176.]\t[176.]    \n",
            "14 \t100   \t[176.]      \t[0.]             \t[176.]\t[176.]    \n",
            "15 \t100   \t[176.]      \t[0.]             \t[176.]\t[176.]    \n",
            "16 \t100   \t[176.]      \t[0.]             \t[176.]\t[176.]    \n",
            "17 \t100   \t[176.]      \t[0.]             \t[176.]\t[176.]    \n",
            "18 \t100   \t[176.]      \t[0.]             \t[176.]\t[176.]    \n",
            "19 \t100   \t[176.]      \t[0.]             \t[176.]\t[176.]    \n",
            "20 \t100   \t[176.]      \t[0.]             \t[176.]\t[176.]    \n",
            "21 \t100   \t[176.]      \t[0.]             \t[176.]\t[176.]    \n",
            "22 \t100   \t[176.]      \t[0.]             \t[176.]\t[176.]    \n",
            "23 \t100   \t[176.]      \t[0.]             \t[176.]\t[176.]    \n",
            "24 \t100   \t[176.]      \t[0.]             \t[176.]\t[176.]    \n",
            "25 \t100   \t[176.]      \t[0.]             \t[176.]\t[176.]    \n",
            "26 \t100   \t[176.]      \t[0.]             \t[176.]\t[176.]    \n",
            "27 \t100   \t[176.]      \t[0.]             \t[176.]\t[176.]    \n",
            "28 \t100   \t[176.]      \t[0.]             \t[176.]\t[176.]    \n",
            "29 \t100   \t[176.]      \t[0.]             \t[176.]\t[176.]    \n",
            "30 \t100   \t[176.]      \t[0.]             \t[176.]\t[176.]    \n",
            "31 \t100   \t[176.]      \t[0.]             \t[176.]\t[176.]    \n",
            "32 \t100   \t[176.]      \t[0.]             \t[176.]\t[176.]    \n",
            "33 \t100   \t[176.]      \t[0.]             \t[176.]\t[176.]    \n",
            "34 \t100   \t[176.]      \t[0.]             \t[176.]\t[176.]    \n",
            "35 \t100   \t[176.]      \t[0.]             \t[176.]\t[176.]    \n",
            "36 \t100   \t[176.]      \t[0.]             \t[176.]\t[176.]    \n",
            "37 \t100   \t[176.]      \t[0.]             \t[176.]\t[176.]    \n",
            "38 \t100   \t[176.]      \t[0.]             \t[176.]\t[176.]    \n",
            "39 \t100   \t[176.]      \t[0.]             \t[176.]\t[176.]    \n",
            "40 \t100   \t[176.]      \t[0.]             \t[176.]\t[176.]    \n",
            "41 \t100   \t[176.]      \t[0.]             \t[176.]\t[176.]    \n",
            "42 \t100   \t[176.]      \t[0.]             \t[176.]\t[176.]    \n",
            "43 \t100   \t[176.]      \t[0.]             \t[176.]\t[176.]    \n",
            "44 \t100   \t[176.]      \t[0.]             \t[176.]\t[176.]    \n",
            "45 \t100   \t[176.]      \t[0.]             \t[176.]\t[176.]    \n",
            "46 \t100   \t[176.]      \t[0.]             \t[176.]\t[176.]    \n",
            "47 \t100   \t[176.]      \t[0.]             \t[176.]\t[176.]    \n",
            "48 \t100   \t[20175.6]   \t[139997.2]       \t[176.]\t[1000156.]\n",
            "49 \t100   \t[176.]      \t[0.]             \t[176.]\t[176.]    \n",
            "50 \t100   \t[176.]      \t[0.]             \t[176.]\t[176.]    \n",
            "51 \t100   \t[176.]      \t[0.]             \t[176.]\t[176.]    \n",
            "52 \t100   \t[176.]      \t[0.]             \t[176.]\t[176.]    \n",
            "53 \t100   \t[176.]      \t[0.]             \t[176.]\t[176.]    \n",
            "54 \t100   \t[176.]      \t[0.]             \t[176.]\t[176.]    \n",
            "55 \t100   \t[176.]      \t[0.]             \t[176.]\t[176.]    \n",
            "56 \t100   \t[176.]      \t[0.]             \t[176.]\t[176.]    \n",
            "57 \t100   \t[176.]      \t[0.]             \t[176.]\t[176.]    \n",
            "58 \t100   \t[176.]      \t[0.]             \t[176.]\t[176.]    \n",
            "59 \t100   \t[176.]      \t[0.]             \t[176.]\t[176.]    \n",
            "60 \t100   \t[176.]      \t[0.]             \t[176.]\t[176.]    \n",
            "61 \t100   \t[176.]      \t[0.]             \t[176.]\t[176.]    \n",
            "62 \t100   \t[176.]      \t[0.]             \t[176.]\t[176.]    \n",
            "63 \t100   \t[176.]      \t[0.]             \t[176.]\t[176.]    \n",
            "64 \t100   \t[176.]      \t[0.]             \t[176.]\t[176.]    \n",
            "65 \t100   \t[176.]      \t[0.]             \t[176.]\t[176.]    \n",
            "66 \t100   \t[176.]      \t[0.]             \t[176.]\t[176.]    \n",
            "67 \t100   \t[176.]      \t[0.]             \t[176.]\t[176.]    \n",
            "68 \t100   \t[176.]      \t[0.]             \t[176.]\t[176.]    \n",
            "69 \t100   \t[176.]      \t[0.]             \t[176.]\t[176.]    \n",
            "70 \t100   \t[176.]      \t[0.]             \t[176.]\t[176.]    \n",
            "71 \t100   \t[176.]      \t[0.]             \t[176.]\t[176.]    \n",
            "72 \t100   \t[176.]      \t[0.]             \t[176.]\t[176.]    \n",
            "73 \t100   \t[176.]      \t[0.]             \t[176.]\t[176.]    \n",
            "74 \t100   \t[176.]      \t[0.]             \t[176.]\t[176.]    \n",
            "75 \t100   \t[176.]      \t[0.]             \t[176.]\t[176.]    \n",
            "76 \t100   \t[176.]      \t[0.]             \t[176.]\t[176.]    \n",
            "77 \t100   \t[176.]      \t[0.]             \t[176.]\t[176.]    \n",
            "78 \t100   \t[176.]      \t[0.]             \t[176.]\t[176.]    \n",
            "79 \t100   \t[176.]      \t[0.]             \t[176.]\t[176.]    \n",
            "80 \t100   \t[176.]      \t[0.]             \t[176.]\t[176.]    \n",
            "81 \t100   \t[176.]      \t[0.]             \t[176.]\t[176.]    \n",
            "82 \t100   \t[176.]      \t[0.]             \t[176.]\t[176.]    \n",
            "83 \t100   \t[176.]      \t[0.]             \t[176.]\t[176.]    \n",
            "84 \t100   \t[176.]      \t[0.]             \t[176.]\t[176.]    \n",
            "85 \t100   \t[176.]      \t[0.]             \t[176.]\t[176.]    \n",
            "86 \t100   \t[176.]      \t[0.]             \t[176.]\t[176.]    \n",
            "87 \t100   \t[176.]      \t[0.]             \t[176.]\t[176.]    \n",
            "88 \t100   \t[176.]      \t[0.]             \t[176.]\t[176.]    \n",
            "89 \t100   \t[176.]      \t[0.]             \t[176.]\t[176.]    \n",
            "90 \t100   \t[176.]      \t[0.]             \t[176.]\t[176.]    \n",
            "91 \t100   \t[176.]      \t[0.]             \t[176.]\t[176.]    \n",
            "92 \t100   \t[176.]      \t[0.]             \t[176.]\t[176.]    \n",
            "93 \t100   \t[176.]      \t[0.]             \t[176.]\t[176.]    \n",
            "94 \t100   \t[176.]      \t[0.]             \t[176.]\t[176.]    \n",
            "95 \t100   \t[176.]      \t[0.]             \t[176.]\t[176.]    \n",
            "96 \t100   \t[176.]      \t[0.]             \t[176.]\t[176.]    \n",
            "97 \t100   \t[176.]      \t[0.]             \t[176.]\t[176.]    \n",
            "98 \t100   \t[176.]      \t[0.]             \t[176.]\t[176.]    \n",
            "99 \t100   \t[176.]      \t[0.]             \t[176.]\t[176.]    \n",
            "100\t100   \t[176.]      \t[0.]             \t[176.]\t[176.]    \n",
            "\n",
            "Rota: [1, 3, 0, 2, 4] \n",
            "Custo: 176\n"
          ]
        }
      ]
    },
    {
      "cell_type": "code",
      "source": [],
      "metadata": {
        "id": "_VJxQLi14lac"
      },
      "execution_count": null,
      "outputs": []
    }
  ]
}