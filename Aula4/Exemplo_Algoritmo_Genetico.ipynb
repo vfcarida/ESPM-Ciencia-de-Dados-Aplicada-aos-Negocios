{
  "cells": [
    {
      "cell_type": "markdown",
      "metadata": {
        "id": "KdLoLvxKy63G"
      },
      "source": [
        "Começamos com um conjunto genérico de letras para genes e uma senha de destino:"
      ]
    },
    {
      "cell_type": "code",
      "execution_count": null,
      "metadata": {
        "id": "ksKwuN4ky63I"
      },
      "outputs": [],
      "source": [
        "geneSet = \" abcdefghijklmnopqrstuvwxyzABCDEFGHIJKLMNOPQRSTUVWXYZ!.\"\n",
        "target = \"eu quero saber se os alunos estao entendendo\"\n",
        "#target = \"senhachave\""
      ]
    },
    {
      "cell_type": "markdown",
      "metadata": {
        "id": "z_OVvTTZy63K"
      },
      "source": [
        "Generate a guess\n",
        "\n",
        "Em seguida, precisamos de uma maneira de gerar uma seqüência aleatória de letras do conjunto de genes."
      ]
    },
    {
      "cell_type": "code",
      "execution_count": null,
      "metadata": {
        "id": "QTkZ3oCgy63K"
      },
      "outputs": [],
      "source": [
        "import random\n",
        "\n",
        "def generate_parent(length):\n",
        "    genes = []\n",
        "    while len(genes) < length:\n",
        "        sampleSize = min(length - len(genes), len(geneSet))\n",
        "        genes.extend(random.sample(geneSet, sampleSize))\n",
        "    return ''.join(genes)"
      ]
    },
    {
      "cell_type": "markdown",
      "metadata": {
        "id": "iijdaoqWy63L"
      },
      "source": [
        "random.sample pega valores sampleSize da entrada sem substituição. Isso significa que não haverá duplicatas no pai gerado, a menos que o geneSet contenha duplicatas ou o tamanho seja maior que len (geneSet). A implementação acima nos permite gerar uma longa string com um pequeno conjunto de genes, usando o maior número possível de genes únicos."
      ]
    },
    {
      "cell_type": "markdown",
      "metadata": {
        "id": "_Ag6MTy_y63L"
      },
      "source": [
        "Fitness\n",
        "\n",
        "O valor de adequação que o algoritmo genético fornece é o único feedback que o mecanismo obtém para guiá-lo em direção\n",
        "a uma solução. Nesse problema, nosso valor de adequação é o número total de letras no palpite que correspondem à letra\n",
        "na mesma posição da senha."
      ]
    },
    {
      "cell_type": "code",
      "execution_count": null,
      "metadata": {
        "id": "9QiiPeeKy63L"
      },
      "outputs": [],
      "source": [
        "def get_fitness(guess):\n",
        "    return sum(1 for expected, actual in zip(target, guess)\n",
        "               if expected == actual)"
      ]
    },
    {
      "cell_type": "markdown",
      "metadata": {
        "id": "_ml9qbZUy63L"
      },
      "source": [
        "Mutate\n",
        "\n",
        "Também precisamos de uma maneira de produzir um novo palpite, alterando o atual. A implementação a seguir converte a string pai em uma matriz com list (parent), em seguida, substitui 1 letra na matriz selecionada aleatoriamente de geneSet e, em seguida, recombina o resultado em uma string com '' .join (genes)."
      ]
    },
    {
      "cell_type": "code",
      "execution_count": null,
      "metadata": {
        "id": "EW0in1zmy63M"
      },
      "outputs": [],
      "source": [
        "def mutate(parent):\n",
        "    index = random.randrange(0, len(parent))\n",
        "    childGenes = list(parent)\n",
        "    newGene, alternate = random.sample(geneSet, 2)\n",
        "    childGenes[index] = alternate \\\n",
        "        if newGene == childGenes[index] \\\n",
        "        else newGene\n",
        "    return ''.join(childGenes)"
      ]
    },
    {
      "cell_type": "markdown",
      "metadata": {
        "id": "UDoITJJay63M"
      },
      "source": [
        "Essa implementação usa uma substituição alternativa se o newGene selecionado aleatoriamente for o mesmo que o que\n",
        "deve substituir, o que pode economizar uma quantidade significativa de sobrecarga."
      ]
    },
    {
      "cell_type": "markdown",
      "metadata": {
        "id": "uEAr7v7Gy63M"
      },
      "source": [
        "Display\n",
        "\n",
        "Em seguida, é importante monitorar o que está acontecendo, para que possamos parar o mecanismo se ele ficar preso. Também nos permite aprender o que funciona e o que não funciona para que possamos melhorar o algoritmo.\n",
        "\n",
        "Vamos exibir uma representação visual da sequência do gene, que pode não ser a seqüência do gene literal, seu valor de adequação e quanto tempo se passou."
      ]
    },
    {
      "cell_type": "code",
      "execution_count": null,
      "metadata": {
        "id": "Kw3gniCTy63M"
      },
      "outputs": [],
      "source": [
        "import datetime\n",
        "\n",
        "def display(guess):\n",
        "    timeDiff = datetime.datetime.now() - startTime\n",
        "    fitness = get_fitness(guess)\n",
        "    print(\"{0}\\t{1}\\t{2}\".format(guess, fitness, str(timeDiff)))"
      ]
    },
    {
      "cell_type": "markdown",
      "metadata": {
        "id": "pPz5gymyy63N"
      },
      "source": [
        "Main\n",
        "\n",
        "Agora estamos prontos para escrever o programa principal. Começamos inicializando o bestParent com uma sequência aleatória de letras."
      ]
    },
    {
      "cell_type": "code",
      "execution_count": null,
      "metadata": {
        "id": "T8oJm9Yhy63N",
        "outputId": "abfa0aaa-3445-4a2b-86f8-af7e9bd4af6d",
        "colab": {
          "base_uri": "https://localhost:8080/"
        }
      },
      "outputs": [
        {
          "output_type": "stream",
          "name": "stdout",
          "text": [
            "Gf. !WAMiIZcxQDvzJtOdBreEkNHUljbCoKTqhPLwyYg\t0\t0:00:00.000214\n"
          ]
        }
      ],
      "source": [
        "random.seed()\n",
        "startTime = datetime.datetime.now()\n",
        "bestParent = generate_parent(len(target))\n",
        "bestFitness = get_fitness(bestParent)\n",
        "display(bestParent)"
      ]
    },
    {
      "cell_type": "markdown",
      "metadata": {
        "id": "KMFpM8q-y63O"
      },
      "source": [
        "Então nós adicionamos o coração do motor genético. É um loop que gera um palpite, solicita a adequação para esse palpite, compara-o ao do palpite anterior e mantém o melhor dos dois. Este ciclo se repete até que todas as letras coincidam com as do alvo."
      ]
    },
    {
      "cell_type": "code",
      "execution_count": null,
      "metadata": {
        "id": "LyQ5LeCKy63P",
        "outputId": "18e8423a-c9c6-411c-d7da-196c25038169",
        "colab": {
          "base_uri": "https://localhost:8080/"
        }
      },
      "outputs": [
        {
          "output_type": "stream",
          "name": "stdout",
          "text": [
            "Gf. !WrMiIZcxQDvzJtOdBreEkNHUljbCoKTqhPLwyYg\t1\t0:00:01.125228\n",
            "Gf. !erMiIZcxQDvzJtOdBreEkNHUljbCoKTqhPLwyYg\t2\t0:00:01.125557\n",
            "Gf. !erMiIZcxQDvzJtOdBreEksHUljbCoKTqhPLwyYg\t3\t0:00:01.126350\n",
            "Gf. !erMiIZceQDvzJtOdBreEksHUljbCoKTqhPLwyYg\t4\t0:00:01.126669\n",
            "Gf. !erMiIZcerDvzJtOdBreEksHUljbCoKTqhPLwyYg\t5\t0:00:01.126853\n",
            "Gf. !erMiIZcerDvzJtOdBreEksHUljbCoeTqhPLwyYg\t6\t0:00:01.127637\n",
            "Gf. !erMiIZcerDvzJtOdBreEksHUljbCoeTqePLwyYg\t7\t0:00:01.135338\n",
            "Gf. !erMiIZcerDvzJtOdBreEksHeljbCoeTqePLwyYg\t8\t0:00:01.137088\n",
            "Gf. !erMiIZcerDvzJtOdBreEks eljbCoeTqePLwyYg\t9\t0:00:01.138057\n",
            "Gf. !erMiIZcerDvzJtOdareEks eljbCoeTqePLwyYg\t10\t0:00:01.139053\n",
            "Gf. !erMiIZcerDvzJtOdareEks eltbCoeTqePLwyYg\t11\t0:00:01.139622\n",
            "Gf. !erMiIZcerDvzJtOdareEks estbCoeTqePLwyYg\t12\t0:00:01.140245\n",
            "Gf. !erM IZcerDvzJtOdareEks estbCoeTqePLwyYg\t13\t0:00:01.141080\n",
            "Gf. !erM IZcerDvz tOdareEks estbCoeTqePLwyYg\t14\t0:00:01.142784\n",
            "Gf. !erM IZcerDvz tOdaleEks estbCoeTqePLwyYg\t15\t0:00:01.143205\n",
            "Gf. !erM IZcerDvz tOdaleEos estbCoeTqePLwyYg\t16\t0:00:01.143786\n",
            "Gf. !erM IZcerDvz tOdaleEos estbCoeTqePLeyYg\t17\t0:00:01.144011\n",
            "Gf. !erM IZcerDvz tOdaleEos estbCoeTqePdeyYg\t18\t0:00:01.144059\n",
            "Gf. !erM sZcerDvz tOdaleEos estbCoeTqePdeyYg\t19\t0:00:01.144576\n",
            "Gf. !erM sZcerDvz tOdalenos estbCoeTqePdeyYg\t20\t0:00:01.144764\n",
            "Gf. !erM sZcerDvz tOdalenos estbooeTqePdeyYg\t21\t0:00:01.144982\n",
            "Gf. !erM sZcerDve tOdalenos estbooeTqePdeyYg\t22\t0:00:01.145059\n",
            "Gf. !erM sacerDve tOdalenos estbooeTqePdeyYg\t23\t0:00:01.147043\n",
            "Gf. !erM sacerDve tOdalenos estbooeTqePdenYg\t24\t0:00:01.147163\n",
            "Gf. !erM sacerDve oOdalenos estbooeTqePdenYg\t25\t0:00:01.148624\n",
            "Gf. !erM sacerDve oOdalenos estbooeTqePdenYo\t26\t0:00:01.148893\n",
            "Gf. !erM sacerDve oOdalenos estbooeTqendenYo\t27\t0:00:01.149405\n",
            "Gf  !erM sacerDve oOdalenos estbooeTqendenYo\t28\t0:00:01.151417\n",
            "Gf  !erM sacer ve oOdalenos estbooeTqendenYo\t29\t0:00:01.151828\n",
            "Gf q!erM sacer ve oOdalenos estbooeTqendenYo\t30\t0:00:01.155795\n",
            "Gf querM sacer ve oOdalenos estbooeTqendenYo\t31\t0:00:01.156241\n",
            "Gf querM sacer ve oOdalenos estbooeTtendenYo\t32\t0:00:01.158043\n",
            "Gf querM sacer ve oOdalunos estbooeTtendenYo\t33\t0:00:01.160713\n",
            "Gf quero sacer ve oOdalunos estbooeTtendenYo\t34\t0:00:01.162344\n",
            "Gf quero sacer ve oOdalunos estbo eTtendenYo\t35\t0:00:01.163640\n",
            "Gf quero sacer se oOdalunos estbo eTtendenYo\t36\t0:00:01.167416\n",
            "Gf quero sacer se oO alunos estbo eTtendenYo\t37\t0:00:01.168257\n",
            "Gf quero sacer se oO alunos estao eTtendenYo\t38\t0:00:01.168633\n",
            "Gf quero saber se oO alunos estao eTtendenYo\t39\t0:00:01.169744\n",
            "Gf quero saber se oO alunos estao entendenYo\t40\t0:00:01.180815\n",
            "ef quero saber se oO alunos estao entendenYo\t41\t0:00:01.184890\n",
            "ef quero saber se os alunos estao entendenYo\t42\t0:00:01.188656\n",
            "ef quero saber se os alunos estao entendendo\t43\t0:00:01.188882\n",
            "eu quero saber se os alunos estao entendendo\t44\t0:00:01.215664\n",
            "10414\n"
          ]
        }
      ],
      "source": [
        "i = 0\n",
        "while True:\n",
        "    i=i+1\n",
        "\n",
        "    child = mutate(bestParent)\n",
        "    childFitness = get_fitness(child)\n",
        "    #print('passo:', i, display(child))\n",
        "\n",
        "    if bestFitness >= childFitness:\n",
        "        continue\n",
        "    display(child)\n",
        "    if childFitness >= len(bestParent):\n",
        "        break\n",
        "    bestFitness = childFitness\n",
        "    bestParent = child\n",
        "print(i)"
      ]
    },
    {
      "cell_type": "markdown",
      "metadata": {
        "collapsed": true,
        "id": "-YyjEokBy63P"
      },
      "source": [
        "Success! You’ve written a genetic algorithm in Python!"
      ]
    },
    {
      "cell_type": "code",
      "execution_count": null,
      "metadata": {
        "id": "KLJ1RzkZy63P"
      },
      "outputs": [],
      "source": []
    },
    {
      "cell_type": "code",
      "execution_count": null,
      "metadata": {
        "id": "NY-Aqoa-y63P"
      },
      "outputs": [],
      "source": []
    }
  ],
  "metadata": {
    "kernelspec": {
      "display_name": "Python 3",
      "language": "python",
      "name": "python3"
    },
    "language_info": {
      "codemirror_mode": {
        "name": "ipython",
        "version": 3
      },
      "file_extension": ".py",
      "mimetype": "text/x-python",
      "name": "python",
      "nbconvert_exporter": "python",
      "pygments_lexer": "ipython3",
      "version": "3.7.3"
    },
    "colab": {
      "provenance": []
    }
  },
  "nbformat": 4,
  "nbformat_minor": 0
}