{
  "cells": [
    {
      "cell_type": "markdown",
      "metadata": {
        "collapsed": true,
        "id": "OT9bSVYE5DWV"
      },
      "source": [
        "#Problema da fabricação de garrafas\n",
        "\n",
        "Você gerencia uma fábrica de garrafas plásticas que tem apenas uma máquina extrusora. Esta máquina pode funcionar até 60 horas por semanda, isto é, 6 dias por semana com jornada de 10 horas por dia. A máquina é capaz de produzir dois tipos de garrafas plásticas: tipo \"leite\" e tipo \"suco\". Toda a produção semanal de garrafas plásticas é armazenada temporariamente num depósito. No domingo toda a produção é despachada para os compradores e o depósito é esvaziado completamente.  \n",
        "\n",
        "A linha de produção leva 6 horas para produzir 100 garrafas tipo leite e 5 horas para produzir 100 garrafas tipo suco. Cada Carrafa tipo leite ocupa 10 unidades cúbicas de espaço no depósito, enquanto que a garrafa de tipo suco ocupa 20 unidades cúbicas. O depósito tem capacidade máxima de 15000 unidades cúbicas.  \n",
        "\n",
        "A contribuição no lucro final da empresa por garrafa tipo leite é de 5 unidades monetárias e por garrafa tipo suco é de 4,5. O departamento de vendas tem contratos de fornecimento capazes de absorver toda a produção possível de garrafas tipo suco, porém tem compradores somente para 800 garrafastipo leite por semana.  \n",
        "\n",
        "Você deve estabelecer qual é o plano de produção mais adequado para maximizar o lucro total da empresa, isto é, quantas garrafas tipo Leite e quantos tipoo Suco devem ser produzidas semanalmente.\n"
      ]
    },
    {
      "cell_type": "markdown",
      "metadata": {
        "id": "-LrbPwVM5DWZ"
      },
      "source": [
        "### Import dos pacotes\n",
        "O DEAP fornece várias bibliotecas que facilitam o trabalho e deverão ser importadas:  \n",
        "- base:\n",
        "- creator:\n",
        "- tools:\n",
        "- algorithms:\n",
        "\n",
        "Outras blibliotecas auxiliares serão utilizadas nesse tutorial:\n",
        "- random:\n",
        "- numpy:"
      ]
    },
    {
      "cell_type": "code",
      "source": [
        "!pip install deap # Instalação de DEAP"
      ],
      "metadata": {
        "colab": {
          "base_uri": "https://localhost:8080/"
        },
        "id": "DTxV0-Om5Raw",
        "outputId": "d8881c8e-7e54-48d2-c70b-92c7b81966e1"
      },
      "execution_count": null,
      "outputs": [
        {
          "output_type": "stream",
          "name": "stdout",
          "text": [
            "Collecting deap\n",
            "  Downloading deap-1.4.1-cp310-cp310-manylinux_2_5_x86_64.manylinux1_x86_64.manylinux_2_17_x86_64.manylinux2014_x86_64.whl (135 kB)\n",
            "\u001b[?25l     \u001b[90m━━━━━━━━━━━━━━━━━━━━━━━━━━━━━━━━━━━━━━━━\u001b[0m \u001b[32m0.0/135.4 kB\u001b[0m \u001b[31m?\u001b[0m eta \u001b[36m-:--:--\u001b[0m\r\u001b[2K     \u001b[91m━━━━━━━━━━━━━━━━━━━━━━━━━━━━━━━━\u001b[0m\u001b[90m╺\u001b[0m\u001b[90m━━━━━━\u001b[0m \u001b[32m112.6/135.4 kB\u001b[0m \u001b[31m3.6 MB/s\u001b[0m eta \u001b[36m0:00:01\u001b[0m\r\u001b[2K     \u001b[90m━━━━━━━━━━━━━━━━━━━━━━━━━━━━━━━━━━━━━━━\u001b[0m \u001b[32m135.4/135.4 kB\u001b[0m \u001b[31m2.9 MB/s\u001b[0m eta \u001b[36m0:00:00\u001b[0m\n",
            "\u001b[?25hRequirement already satisfied: numpy in /usr/local/lib/python3.10/dist-packages (from deap) (1.23.5)\n",
            "Installing collected packages: deap\n",
            "Successfully installed deap-1.4.1\n"
          ]
        }
      ]
    },
    {
      "cell_type": "code",
      "execution_count": null,
      "metadata": {
        "collapsed": true,
        "id": "qyZBnxtG5DWa"
      },
      "outputs": [],
      "source": [
        "import random\n",
        "import numpy\n",
        "from deap import base\n",
        "from deap import creator\n",
        "from deap import tools\n",
        "from deap import algorithms\n",
        "\n",
        "# INIT\n",
        "toolbox = base.Toolbox()"
      ]
    },
    {
      "cell_type": "markdown",
      "metadata": {
        "id": "_s209Agg5DWb"
      },
      "source": [
        "### Natureza do problema\n",
        "Como se trata de um problema de maximização criamos essa função conforme a especificação do DEAP"
      ]
    },
    {
      "cell_type": "code",
      "execution_count": null,
      "metadata": {
        "collapsed": true,
        "id": "nhD_Ez105DWc"
      },
      "outputs": [],
      "source": [
        "creator.create(\"FitnessMax\", base.Fitness, weights=(1.0,))"
      ]
    },
    {
      "cell_type": "markdown",
      "metadata": {
        "id": "0ybAr6Do5DWc"
      },
      "source": [
        "### Individuos e população\n",
        "Cada problema necessita uma forma particular de modelar o individuo, bem como a população deve ser gerada. Sendo assim os passos que devemos fazer no DEAP são:\n",
        "- Definir estrutura do individuo(list, set, etc)\n",
        "- Definir a função que irá gerar os alelos\n",
        "- Definir a função que irá gerar os individuos\n",
        "- Definir a função que irá gerar a popuulação"
      ]
    },
    {
      "cell_type": "code",
      "execution_count": null,
      "metadata": {
        "collapsed": true,
        "id": "GMNxVwgT5DWc"
      },
      "outputs": [],
      "source": [
        "# Definindo a estrutura do indivíduo\n",
        "IND_SIZE = 20  # Tamanho do individuo - 10 para cada gene\n",
        "GENES = 2\n",
        "creator.create(\"Individual\", list, fitness=creator.FitnessMax)\n",
        "\n",
        "# funcao para gerar o gene com alelos 0 ou 1 randomicamente uniforme\n",
        "toolbox.register(\"attr_bool\", random.randint, 0, 1)\n",
        "\n",
        "# funcao para gerar o indivíduo (nome, forma de gerar, Estrutura, funcao geradora, tamanho)\n",
        "toolbox.register(\"individual\", tools.initRepeat, creator.Individual, toolbox.attr_bool, n=IND_SIZE)\n",
        "\n",
        "# funcao para gerar a populacao\n",
        "toolbox.register(\"population\", tools.initRepeat, list, toolbox.individual)"
      ]
    },
    {
      "cell_type": "markdown",
      "metadata": {
        "id": "EoiVPlxx5DWd"
      },
      "source": [
        "### Função de fitness\n",
        "Essa função ao contrário das outras que são produzidas quase que parametricamente, deve ser impllementada manualmente. Nela é onde o individuo receberá o valor de fitness que corresponde à modelagem funcional do problem. Para o caso deste exemplo em questão temos:"
      ]
    },
    {
      "cell_type": "code",
      "execution_count": null,
      "metadata": {
        "collapsed": true,
        "id": "IF-47sA45DWd"
      },
      "outputs": [],
      "source": [
        "# funcao de fitness\n",
        "def evaluate(individual):\n",
        "    l = int(\"\".join(str(i) for i in individual[:int(IND_SIZE/GENES)]), 2)    # gene quantidade de garrafas de leite\n",
        "    s = int(\"\".join(str(i) for i in individual[int(IND_SIZE/GENES):]), 2)    # gene quantidade de garrafas de suco\n",
        "    g = (5 * l + 4.5 * s) / 9718.5                                           # funcao objetivo normalizada [0,1]\n",
        "    h1 = max(0, ((6 * l + 5 * s) / 100 - 60)) / 52.53                        # funcao de restricao 1 normalizada [0,1]\n",
        "    h2 = max(0, (10 * l + 20 * s - 15000)) / 15690                           # funcao de restricao 2 normalizada [0,1]\n",
        "    h3 = max(0, (l - 800)) / 223                                             # funcao de restricao 3 normalizada [0,1]\n",
        "    h4 = max(0, (s - 750)) / 273                                             # funcao de restricao 4 normalizada [0,1]\n",
        "    return g - 2*(h1+h2+h3+h4)/4,                                            # fitness normalizado [0,1]"
      ]
    },
    {
      "cell_type": "markdown",
      "metadata": {
        "id": "7WGO2RxI5DWd"
      },
      "source": [
        "### Operadores\n",
        "Para o DEAP são considerados como operadores:\n",
        "- evaluate: operador para realizar o cálculo de fitness do indivíduo\n",
        "- mate: operador para realizar cross over de indivíduos\n",
        "- mutate: operador para realizar a mutação dos\n",
        "- select: operador para selecionar os melhores de uma geração para outra  \n",
        "\n",
        "Cada um desses operadores deve ser registrado. Seguindo a documentação do DEAP, damos um nome para o operador, seguido da função que ele irá realizar, seguido dos parametros dessa função"
      ]
    },
    {
      "cell_type": "code",
      "execution_count": null,
      "metadata": {
        "collapsed": true,
        "id": "kXL_Fgb85DWe"
      },
      "outputs": [],
      "source": [
        "# registra funcao de fitness\n",
        "toolbox.register(\"evaluate\", evaluate)\n",
        "\n",
        "# registra crossOver\n",
        "toolbox.register(\"mate\", tools.cxTwoPoint)\n",
        "\n",
        "# registra mutacao com probabilidade default de mudar cada gene de 5%\n",
        "toolbox.register(\"mutate\", tools.mutFlipBit, indpb=0.05)\n",
        "\n",
        "# registra o metodo de selecao como torneio de tamanho 3\n",
        "toolbox.register(\"select\", tools.selTournament, tournsize=3)"
      ]
    },
    {
      "cell_type": "markdown",
      "metadata": {
        "id": "sw7p-6ho5DWe"
      },
      "source": [
        "### Funções adicionais\n",
        "Dependendo de cada caso, podemos desejar mostrar relatórios específicos. Para esse problema, criamos duas funçõs. Uma para imprimir os dados de um indivíduo e outra para plotar o gráfico das evoluções das gerações.\n"
      ]
    },
    {
      "cell_type": "code",
      "execution_count": null,
      "metadata": {
        "collapsed": true,
        "id": "cf7CIPC95DWe"
      },
      "outputs": [],
      "source": [
        "#Imprimir indivíduo\n",
        "def print_ind(individual):\n",
        "    l = int(\"\".join(str(i) for i in individual[:int(IND_SIZE / GENES)]), 2)  # gene quantidade de garrafas de leite\n",
        "    s = int(\"\".join(str(i) for i in individual[int(IND_SIZE / GENES):]), 2)  # gene quantidade de garrafas de suco\n",
        "    g = 5*l + 4.5*s\n",
        "    print('Individuo:' + str(individual))\n",
        "    print('Quantidade de garrafas de leite: ' + str(l))\n",
        "    print('Quantidade de garrafas de suco: ' + str(s))\n",
        "    print('Lucro: ' + str(g))\n",
        "\n",
        "#Plotar Gráfico\n",
        "def plot_log(logbook):\n",
        "    gen = logbook.select(\"gen\")\n",
        "    min = logbook.select(\"min\")\n",
        "    avg = logbook.select(\"avg\")\n",
        "    max = logbook.select(\"max\")\n",
        "\n",
        "    import matplotlib.pyplot as plt\n",
        "\n",
        "    fig, ax1 = plt.subplots()\n",
        "    line1 = ax1.plot(gen, min, \"b-\", label=\"Minimum Fitness\")\n",
        "    ax1.set_xlabel(\"Generation\")\n",
        "    ax1.set_ylabel(\"Fitness\", color=\"b\")\n",
        "    for tl in ax1.get_yticklabels():\n",
        "        tl.set_color(\"b\")\n",
        "\n",
        "    ax2 = ax1.twinx()\n",
        "    line2 = ax2.plot(gen, avg, \"g-\", label=\"Average Fitness\")\n",
        "    for tl in ax2.get_yticklabels():\n",
        "        tl.set_color(\"g\")\n",
        "\n",
        "    ax3 = ax1.twinx()\n",
        "    line3 = ax3.plot(gen, max, \"y-\", label=\"Maximum Fitness\")\n",
        "    ax3.set_ylabel(\"Size\")\n",
        "    for tl in ax3.get_yticklabels():\n",
        "        tl.set_color(\"y\")\n",
        "\n",
        "    lns = line1 + line2 + line3\n",
        "    labs = [l.get_label() for l in lns]\n",
        "    ax1.legend(lns, labs, loc=\"center right\")\n",
        "\n",
        "    plt.show()"
      ]
    },
    {
      "cell_type": "markdown",
      "metadata": {
        "id": "jU180i_o5DWf"
      },
      "source": [
        "### Algoritmo\n",
        "Depois de definir toda a estrutura do nosso problema e o comportamento, faz-se necessário implementar o algoritmo que irá rodar. Essa implementação é composta dos parametros do Algoritmo Genético e a logica que manipula a população.\n",
        "\n",
        "No exemplo abaixo utilizamos uma implementação já fornecida pelo DEAP: o eaSimple que é um algoritmos do livro “Evolutionary Computation 1 : Basic Algorithms and Operators”(cap.7). Neste exemplo também optei poro trazer uma implementação mais enxuta sem mostrar os stats monitorados no console, de modo apenas focarmos no processo como um todo do AG."
      ]
    },
    {
      "cell_type": "code",
      "execution_count": null,
      "metadata": {
        "colab": {
          "base_uri": "https://localhost:8080/",
          "height": 1000
        },
        "id": "utY7DCvs5DWf",
        "outputId": "c18eb1ee-9bf7-4f5b-8d39-733b8789de32"
      },
      "outputs": [
        {
          "output_type": "stream",
          "name": "stdout",
          "text": [
            "gen\tnevals\tstd     \tmin      \tavg     \tmax   \n",
            "0  \t70    \t0.279164\t-0.794191\t0.222211\t0.5251\n",
            "1  \t53    \t0.137051\t-0.182224\t0.365127\t0.521669\n",
            "2  \t57    \t0.104841\t-0.18801 \t0.433291\t0.527247\n",
            "3  \t62    \t0.0855094\t-0.102859\t0.466715\t0.5277  \n",
            "4  \t61    \t0.0348315\t0.347647 \t0.498005\t0.527777\n",
            "5  \t58    \t0.0463223\t0.270386 \t0.501738\t0.527926\n",
            "6  \t52    \t0.0528416\t0.130146 \t0.498091\t0.527926\n",
            "7  \t50    \t0.169755 \t-0.666382\t0.48663 \t0.527952\n",
            "8  \t44    \t0.0118609\t0.458677 \t0.524036\t0.527952\n",
            "9  \t58    \t0.0480039\t0.144649 \t0.519095\t0.527978\n",
            "10 \t61    \t0.0011975\t0.523538 \t0.527375\t0.527978\n",
            "11 \t58    \t0.000187768\t0.527242 \t0.527867\t0.527978\n",
            "12 \t60    \t0.00671136 \t0.476925 \t0.52684 \t0.527978\n",
            "13 \t58    \t1.28367e-05\t0.527926 \t0.527958\t0.527978\n",
            "14 \t50    \t0.000147406\t0.527242 \t0.527935\t0.527978\n",
            "15 \t62    \t1.45458e-05\t0.527864 \t0.527974\t0.527978\n",
            "16 \t46    \t1.11022e-16\t0.527978 \t0.527978\t0.527978\n",
            "17 \t53    \t1.11022e-16\t0.527978 \t0.527978\t0.527978\n",
            "18 \t58    \t5.37505e-05\t0.527525 \t0.527971\t0.527978\n",
            "19 \t52    \t0.000526875\t0.523538 \t0.527914\t0.527978\n",
            "20 \t66    \t1.11022e-16\t0.527978 \t0.527978\t0.527978\n",
            "21 \t58    \t1.11022e-16\t0.527978 \t0.527978\t0.527978\n",
            "22 \t60    \t1.11022e-16\t0.527978 \t0.527978\t0.527978\n",
            "23 \t61    \t1.11022e-16\t0.527978 \t0.527978\t0.527978\n",
            "24 \t58    \t1.11022e-16\t0.527978 \t0.527978\t0.527978\n",
            "25 \t64    \t0.000424759\t0.524464 \t0.527917\t0.527978\n",
            "26 \t60    \t1.11022e-16\t0.527978 \t0.527978\t0.527978\n",
            "27 \t58    \t1.11022e-16\t0.527978 \t0.527978\t0.527978\n",
            "28 \t52    \t0.00452791 \t0.494315 \t0.527231\t0.527978\n",
            "29 \t60    \t1.11022e-16\t0.527978 \t0.527978\t0.527978\n",
            "30 \t64    \t0.0210769  \t0.350363 \t0.52544 \t0.527978\n",
            "31 \t56    \t1.11022e-16\t0.527978 \t0.527978\t0.527978\n",
            "32 \t56    \t1.11022e-16\t0.527978 \t0.527978\t0.527978\n",
            "33 \t57    \t1.11022e-16\t0.527978 \t0.527978\t0.527978\n",
            "34 \t48    \t1.11022e-16\t0.527978 \t0.527978\t0.527978\n",
            "35 \t56    \t1.11022e-16\t0.527978 \t0.527978\t0.527978\n",
            "36 \t52    \t1.11022e-16\t0.527978 \t0.527978\t0.527978\n",
            "37 \t58    \t1.11022e-16\t0.527978 \t0.527978\t0.527978\n",
            "38 \t52    \t0.0177761  \t0.391521 \t0.525117\t0.527978\n",
            "39 \t62    \t1.11022e-16\t0.527978 \t0.527978\t0.527978\n",
            "40 \t56    \t1.11022e-16\t0.527978 \t0.527978\t0.527978\n",
            "41 \t52    \t1.11022e-16\t0.527978 \t0.527978\t0.527978\n",
            "42 \t62    \t0.000416938\t0.524464 \t0.527927\t0.527978\n",
            "43 \t54    \t0.000107501\t0.527072 \t0.527965\t0.527978\n",
            "44 \t64    \t0.00171128 \t0.513557 \t0.527772\t0.527978\n",
            "45 \t52    \t1.11022e-16\t0.527978 \t0.527978\t0.527978\n",
            "46 \t58    \t0.00519679 \t0.48418  \t0.527341\t0.527978\n",
            "47 \t54    \t0.00133758 \t0.516706 \t0.527817\t0.527978\n",
            "48 \t64    \t1.11022e-16\t0.527978 \t0.527978\t0.527978\n",
            "49 \t56    \t0.0312358  \t0.264753 \t0.524217\t0.527978\n",
            "50 \t54    \t0.0316754  \t0.261049 \t0.524164\t0.527978\n",
            "51 \t52    \t1.11022e-16\t0.527978 \t0.527978\t0.527978\n",
            "52 \t50    \t1.11022e-16\t0.527978 \t0.527978\t0.527978\n",
            "53 \t54    \t1.11022e-16\t0.527978 \t0.527978\t0.527978\n",
            "54 \t56    \t1.11022e-16\t0.527978 \t0.527978\t0.527978\n",
            "55 \t66    \t1.11022e-16\t0.527978 \t0.527978\t0.527978\n",
            "56 \t56    \t1.11022e-16\t0.527978 \t0.527978\t0.527978\n",
            "57 \t54    \t1.11022e-16\t0.527978 \t0.527978\t0.527978\n",
            "58 \t52    \t0.0140437  \t0.409631 \t0.526287\t0.527978\n",
            "59 \t45    \t0.0312358  \t0.264753 \t0.524217\t0.527978\n",
            "60 \t62    \t1.11022e-16\t0.527978 \t0.527978\t0.527978\n",
            "Individuo:[1, 0, 1, 0, 1, 0, 0, 0, 0, 0, 0, 1, 1, 0, 0, 0, 1, 0, 1, 0]\n",
            "Quantidade de garrafas de leite: 672\n",
            "Quantidade de garrafas de suco: 394\n",
            "Lucro: 5133.0\n"
          ]
        },
        {
          "output_type": "display_data",
          "data": {
            "text/plain": [
              "<Figure size 640x480 with 3 Axes>"
            ],
            "image/png": "[encoded data removed]"
          },
          "metadata": {}
        }
      ],
      "source": [
        "def main():\n",
        "    random.seed(94)\n",
        "\n",
        "    # cria populacao inicial\n",
        "    pop = toolbox.population(n=70)\n",
        "\n",
        "    # CXPB - probabilidade de crossover\n",
        "    # MUTPB - probabilidade de mutacao\n",
        "    # NGEN - numero de geracoes\n",
        "    CXPB, MUTPB, NGEN =0.8, 0.02, 60\n",
        "\n",
        "    #stats a serem guardados\n",
        "    stats = tools.Statistics(key=lambda ind: ind.fitness.values)\n",
        "    stats.register(\"std\", numpy.std)\n",
        "    stats.register(\"min\", numpy.min)\n",
        "    stats.register(\"avg\", numpy.mean)\n",
        "    stats.register(\"max\", numpy.max)\n",
        "\n",
        "    #Roda o algoritmo\n",
        "    pop, logbook = algorithms.eaSimple(pop, toolbox, CXPB, MUTPB, NGEN, stats=stats)\n",
        "\n",
        "    #Seleciona o melhor individuo da populacao resultante\n",
        "    best_ind = tools.selSPEA2(pop, 1)\n",
        "\n",
        "    #Imprime as infromações do melhor individuo\n",
        "    print_ind(best_ind[0])\n",
        "\n",
        "    #Plota o Gráfico\n",
        "    plot_log(logbook)\n",
        "\n",
        "\n",
        "if __name__ == \"__main__\":\n",
        "    main()"
      ]
    },
    {
      "cell_type": "code",
      "execution_count": null,
      "metadata": {
        "collapsed": true,
        "id": "6t2ZkW6R5DWg"
      },
      "outputs": [],
      "source": []
    }
  ],
  "metadata": {
    "kernelspec": {
      "display_name": "Python 3",
      "language": "python",
      "name": "python3"
    },
    "language_info": {
      "codemirror_mode": {
        "name": "ipython",
        "version": 3
      },
      "file_extension": ".py",
      "mimetype": "text/x-python",
      "name": "python",
      "nbconvert_exporter": "python",
      "pygments_lexer": "ipython3",
      "version": "3.6.1"
    },
    "colab": {
      "provenance": []
    }
  },
  "nbformat": 4,
  "nbformat_minor": 0
}