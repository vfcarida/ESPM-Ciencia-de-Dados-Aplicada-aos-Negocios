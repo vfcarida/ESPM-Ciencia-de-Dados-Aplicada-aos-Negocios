{
  "cells": [
    {
      "cell_type": "markdown",
      "metadata": {
        "id": "-qAGWGzAUXgv"
      },
      "source": [
        "# Classificação de sentimento em reviews de filmes com base do IMDB via RNNs (Recurrent Neural Networks)\n",
        "\n",
        "Neste notebook iremos treinar uma Rede Neural Recorrent (RNN) para classificação de sentimento usando Keras (com Tensorflow como backend). Primeiro, vamos às importações necessárias e a posteriore o Keras nos diz qual backend (Theano, Tensorflow, CNTK) ele estará usando."
      ]
    },
    {
      "cell_type": "code",
      "execution_count": 1,
      "metadata": {
        "colab": {
          "base_uri": "https://localhost:8080/"
        },
        "id": "h4oRcDCaUXgx",
        "outputId": "24a30e51-49f1-437c-c430-eb49bef3b4d3"
      },
      "outputs": [
        {
          "output_type": "stream",
          "name": "stdout",
          "text": [
            "Using Keras version: 2.15.0 backend: tensorflow\n"
          ]
        },
        {
          "output_type": "stream",
          "name": "stderr",
          "text": [
            "<ipython-input-1-28f846173a8b>:26: DeprecationWarning: distutils Version classes are deprecated. Use packaging.version instead.\n",
            "  assert(LV(__version__) >= LV(\"2.0.0\"))\n"
          ]
        }
      ],
      "source": [
        "%matplotlib inline\n",
        "\n",
        "from keras.preprocessing import sequence\n",
        "from keras.models import Sequential\n",
        "from keras.layers import Dense, Embedding, Dropout\n",
        "#from keras.layers import LSTM, CuDNNLSTM\n",
        "from keras.layers import LSTM\n",
        "from keras.datasets import imdb\n",
        "\n",
        "from distutils.version import LooseVersion as LV\n",
        "from keras import __version__\n",
        "from keras import backend as K\n",
        "\n",
        "from IPython.display import SVG\n",
        "#from keras.utils.vis_utils import model_to_dot\n",
        "from tensorflow.keras.utils import model_to_dot\n",
        "\n",
        "from tensorflow.keras.utils import plot_model\n",
        "\n",
        "import numpy as np\n",
        "import matplotlib.pyplot as plt\n",
        "import seaborn as sns\n",
        "sns.set()\n",
        "\n",
        "print('Using Keras version:', __version__, 'backend:', K.backend())\n",
        "assert(LV(__version__) >= LV(\"2.0.0\"))"
      ]
    },
    {
      "cell_type": "markdown",
      "metadata": {
        "id": "K7yp39afUXg1"
      },
      "source": [
        "## Base de dados do IMDB (https://www.kaggle.com/iarunava/imdb-movie-reviews-dataset)\n",
        "\n",
        "Em seguida, carregaremos o conjunto de dados do IMDB. Na primeira vez, talvez tenhamos que baixar os dados, o que pode demorar um pouco. O conjunto de dados contém 50000 avaliações de filmes do Internet Movie Database, dividido em 25.000 avaliações para treinamento e 25.000 avaliações para testes. Metade dos comentários são positivos (1) e metade são negativos (0).\n",
        "\n",
        "O conjunto de dados já foi pré-processado e cada palavra foi substituída por um índice inteiro.\n",
        "\n",
        "As revisões são, portanto, representadas como sequências de comprimento variável de inteiros, como consta:\n",
        "\n",
        "(Os índices de palavras começam em \"3\", como \"1\" é usado para marcar o início de uma revisão e \"2\" representa todas as palavras fora do vocabulário existente. \"0\" será usado posteriormente para preencher comentários mais curtos em um tamanho fixo .)\n",
        "\n",
        "\n",
        "* Mais informações e créditos originais:\n",
        "\n",
        "Maas, Andrew L. and Daly, Raymond E. and Pham, Peter T. and Huang, Dan and Ng, Andrew Y. and Potts, Christopher, \"Learning Word Vectors for Sentiment Analysis\", em Proceedings of the 49th Annual Meeting of the Association for Computational Linguistics: Human Language Technologies, June, 2011. Portland, Oregon, USA. Association for Computational Linguistics. Pages 142 a150. Disponível em: http://www.aclweb.org/anthology/P11-1015"
      ]
    },
    {
      "cell_type": "code",
      "execution_count": 2,
      "metadata": {
        "colab": {
          "base_uri": "https://localhost:8080/"
        },
        "id": "lrzgGTpsUXg2",
        "outputId": "eb9b92e8-29ba-46ad-9ee4-1fc88e0006ec"
      },
      "outputs": [
        {
          "output_type": "stream",
          "name": "stdout",
          "text": [
            "Carregando...\n",
            "Downloading data from https://storage.googleapis.com/tensorflow/tf-keras-datasets/imdb.npz\n",
            "17464789/17464789 [==============================] - 0s 0us/step\n",
            "x_train: (25000,)\n",
            "x_test: (25000,)\n",
            "\n",
            "Sequencias (samples x time)\n",
            "x_train shape: (25000, 80)\n",
            "x_test shape: (25000, 80)\n"
          ]
        }
      ],
      "source": [
        "# número de palavras mais frequentes para se utilizar:\n",
        "\n",
        "nb_words = 10000\n",
        "\n",
        "# cortar textos a partir do seguinte número de palavras (maxlenght):\n",
        "\n",
        "maxlen = 80\n",
        "\n",
        "print('Carregando...')\n",
        "(x_train, y_train), (x_test, y_test) = imdb.load_data(num_words=nb_words)\n",
        "print('x_train:', x_train.shape)\n",
        "print('x_test:', x_test.shape)\n",
        "print()\n",
        "\n",
        "print('Sequencias (samples x time)')\n",
        "x_train = sequence.pad_sequences(x_train, maxlen=maxlen)\n",
        "x_test = sequence.pad_sequences(x_test, maxlen=maxlen)\n",
        "print('x_train shape:', x_train.shape)\n",
        "print('x_test shape:', x_test.shape)"
      ]
    },
    {
      "cell_type": "markdown",
      "metadata": {
        "id": "yXWrBa2pUXg4"
      },
      "source": [
        "Mostrando nosso primeiro review no set de treinamento:"
      ]
    },
    {
      "cell_type": "code",
      "execution_count": 3,
      "metadata": {
        "colab": {
          "base_uri": "https://localhost:8080/"
        },
        "id": "NyMoRVNjUXg5",
        "outputId": "1ca6ff44-8f35-44f8-dfbf-a9392c4ad8eb"
      },
      "outputs": [
        {
          "output_type": "stream",
          "name": "stdout",
          "text": [
            "Primeiro review no set de treinamento:\n",
            " \n",
            " [  15  256    4    2    7 3766    5  723   36   71   43  530  476   26\n",
            "  400  317   46    7    4    2 1029   13  104   88    4  381   15  297\n",
            "   98   32 2071   56   26  141    6  194 7486   18    4  226   22   21\n",
            "  134  476   26  480    5  144   30 5535   18   51   36   28  224   92\n",
            "   25  104    4  226   65   16   38 1334   88   12   16  283    5   16\n",
            " 4472  113  103   32   15   16 5345   19  178   32] comprimento: 80 classe: 1\n"
          ]
        }
      ],
      "source": [
        "print(\"Primeiro review no set de treinamento:\\n \\n\", x_train[0], \"comprimento:\", len(x_train[0]), \"classe:\", y_train[0])"
      ]
    },
    {
      "cell_type": "markdown",
      "metadata": {
        "id": "V4HY7sH2UXg7"
      },
      "source": [
        "## Inicialização\n",
        "\n",
        "Vamos criar um modelo RNN que tenha uma (ou, opcionalmente, duas) camadas LSTM e de Dropout.\n",
        "\n",
        "A primeira camada na rede é uma camada de Embedding que converte índices inteiros em vetores densos de comprimento ´embedding_dims`. A camada de saída contém um único neurônio e uma não-linearidade do tipo sigmóide para coincidir com a groundtruth binária (`y_train`).\n",
        "\n",
        "Finalmente, nós `compilamos ()` o modelo, usando entropia cruzada binária como a função de perda e [* RMSprop *] (https://keras.io/optimizers/#rmsprop) como otimizador."
      ]
    },
    {
      "cell_type": "code",
      "execution_count": 4,
      "metadata": {
        "colab": {
          "base_uri": "https://localhost:8080/"
        },
        "id": "OaD2LN7dUXg8",
        "outputId": "40319184-f915-48a1-d90f-2c9c92c2ce57"
      },
      "outputs": [
        {
          "output_type": "stream",
          "name": "stdout",
          "text": [
            "Construindo nosso modelo...\n",
            "Model: \"sequential\"\n",
            "_________________________________________________________________\n",
            " Layer (type)                Output Shape              Param #   \n",
            "=================================================================\n",
            " embedding (Embedding)       (None, 80, 50)            500000    \n",
            "                                                                 \n",
            " dropout (Dropout)           (None, 80, 50)            0         \n",
            "                                                                 \n",
            " lstm (LSTM)                 (None, 32)                10624     \n",
            "                                                                 \n",
            " dense (Dense)               (None, 1)                 33        \n",
            "                                                                 \n",
            "=================================================================\n",
            "Total params: 510657 (1.95 MB)\n",
            "Trainable params: 510657 (1.95 MB)\n",
            "Non-trainable params: 0 (0.00 Byte)\n",
            "_________________________________________________________________\n",
            "None\n"
          ]
        }
      ],
      "source": [
        "\n",
        "# Parâmetros do modelo:\n",
        "\n",
        "embedding_dims = 50\n",
        "lstm_units = 32\n",
        "\n",
        "print('Construindo nosso modelo...')\n",
        "model = Sequential()\n",
        "\n",
        "model.add(Embedding(nb_words,\n",
        "                    embedding_dims,\n",
        "                    input_length=maxlen))\n",
        "model.add(Dropout(0.2))\n",
        "\n",
        "#se estiver executando sem GPU:\n",
        "\n",
        "model.add(LSTM(lstm_units))\n",
        "\n",
        "# se estiver executando numa GPU:\n",
        "\n",
        "#model.add(CuDNNLSTM(lstm_units, return_sequences=True))\n",
        "\n",
        "# Para empilhar várias camadas RNN, todas as camadas RNN, exceto a última\n",
        "# precisam ter \"return_sequences = True\". Um exemplo de uso de duas camadas RNN:\n",
        "\n",
        "#model.add(LSTM(lstm_units, return_sequences=True))\n",
        "#model.add(LSTM(lstm_units))\n",
        "\n",
        "model.add(Dense(1, activation='sigmoid'))\n",
        "\n",
        "# Tentem utilizar outros otimizadores e configurações\n",
        "# Me mandem os resultados obtidos como atividade avaliativa (ATV 3)\n",
        "\n",
        "model.compile(loss='binary_crossentropy',\n",
        "              optimizer='rmsprop',\n",
        "              metrics=['accuracy'])\n",
        "print(model.summary())"
      ]
    },
    {
      "cell_type": "code",
      "execution_count": 5,
      "metadata": {
        "colab": {
          "base_uri": "https://localhost:8080/",
          "height": 709
        },
        "id": "pQIbt-yGUXg-",
        "outputId": "0998d7d6-0422-47a6-c3ef-cc895d9819f9"
      },
      "outputs": [
        {
          "output_type": "execute_result",
          "data": {
            "text/plain": [
              "<IPython.core.display.SVG object>"
            ],
            "image/svg+xml": "<svg xmlns=\"http://www.w3.org/2000/svg\" xmlns:xlink=\"http://www.w3.org/1999/xlink\" width=\"347pt\" height=\"516pt\" viewBox=\"0.00 0.00 260.00 387.00\">\n<g id=\"graph0\" class=\"graph\" transform=\"scale(0.75 0.75) rotate(0) translate(4 383)\">\n<title>G</title>\n<polygon fill=\"white\" stroke=\"transparent\" points=\"-4,4 -4,-383 256,-383 256,4 -4,4\"/>\n<!-- 139610579116832 -->\n<g id=\"node1\" class=\"node\">\n<title>139610579116832</title>\n<polygon fill=\"none\" stroke=\"black\" points=\"0,-332.5 0,-378.5 252,-378.5 252,-332.5 0,-332.5\"/>\n<text text-anchor=\"middle\" x=\"56\" y=\"-363.3\" font-family=\"Times,serif\" font-size=\"14.00\">embedding_input</text>\n<polyline fill=\"none\" stroke=\"black\" points=\"0,-355.5 112,-355.5 \"/>\n<text text-anchor=\"middle\" x=\"56\" y=\"-340.3\" font-family=\"Times,serif\" font-size=\"14.00\">InputLayer</text>\n<polyline fill=\"none\" stroke=\"black\" points=\"112,-332.5 112,-378.5 \"/>\n<text text-anchor=\"middle\" x=\"139.5\" y=\"-363.3\" font-family=\"Times,serif\" font-size=\"14.00\">input:</text>\n<polyline fill=\"none\" stroke=\"black\" points=\"112,-355.5 167,-355.5 \"/>\n<text text-anchor=\"middle\" x=\"139.5\" y=\"-340.3\" font-family=\"Times,serif\" font-size=\"14.00\">output:</text>\n<polyline fill=\"none\" stroke=\"black\" points=\"167,-332.5 167,-378.5 \"/>\n<text text-anchor=\"middle\" x=\"209.5\" y=\"-363.3\" font-family=\"Times,serif\" font-size=\"14.00\">[(None, 80)]</text>\n<polyline fill=\"none\" stroke=\"black\" points=\"167,-355.5 252,-355.5 \"/>\n<text text-anchor=\"middle\" x=\"209.5\" y=\"-340.3\" font-family=\"Times,serif\" font-size=\"14.00\">[(None, 80)]</text>\n</g>\n<!-- 139610530760016 -->\n<g id=\"node2\" class=\"node\">\n<title>139610530760016</title>\n<polygon fill=\"none\" stroke=\"black\" points=\"10,-249.5 10,-295.5 242,-295.5 242,-249.5 10,-249.5\"/>\n<text text-anchor=\"middle\" x=\"50\" y=\"-280.3\" font-family=\"Times,serif\" font-size=\"14.00\">embedding</text>\n<polyline fill=\"none\" stroke=\"black\" points=\"10,-272.5 90,-272.5 \"/>\n<text text-anchor=\"middle\" x=\"50\" y=\"-257.3\" font-family=\"Times,serif\" font-size=\"14.00\">Embedding</text>\n<polyline fill=\"none\" stroke=\"black\" points=\"90,-249.5 90,-295.5 \"/>\n<text text-anchor=\"middle\" x=\"117.5\" y=\"-280.3\" font-family=\"Times,serif\" font-size=\"14.00\">input:</text>\n<polyline fill=\"none\" stroke=\"black\" points=\"90,-272.5 145,-272.5 \"/>\n<text text-anchor=\"middle\" x=\"117.5\" y=\"-257.3\" font-family=\"Times,serif\" font-size=\"14.00\">output:</text>\n<polyline fill=\"none\" stroke=\"black\" points=\"145,-249.5 145,-295.5 \"/>\n<text text-anchor=\"middle\" x=\"193.5\" y=\"-280.3\" font-family=\"Times,serif\" font-size=\"14.00\">(None, 80)</text>\n<polyline fill=\"none\" stroke=\"black\" points=\"145,-272.5 242,-272.5 \"/>\n<text text-anchor=\"middle\" x=\"193.5\" y=\"-257.3\" font-family=\"Times,serif\" font-size=\"14.00\">(None, 80, 50)</text>\n</g>\n<!-- 139610579116832&#45;&gt;139610530760016 -->\n<g id=\"edge1\" class=\"edge\">\n<title>139610579116832-&gt;139610530760016</title>\n<path fill=\"none\" stroke=\"black\" d=\"M126,-332.37C126,-324.15 126,-314.66 126,-305.73\"/>\n<polygon fill=\"black\" stroke=\"black\" points=\"129.5,-305.61 126,-295.61 122.5,-305.61 129.5,-305.61\"/>\n</g>\n<!-- 139610579123840 -->\n<g id=\"node3\" class=\"node\">\n<title>139610579123840</title>\n<polygon fill=\"none\" stroke=\"black\" points=\"19,-166.5 19,-212.5 233,-212.5 233,-166.5 19,-166.5\"/>\n<text text-anchor=\"middle\" x=\"50\" y=\"-197.3\" font-family=\"Times,serif\" font-size=\"14.00\">dropout</text>\n<polyline fill=\"none\" stroke=\"black\" points=\"19,-189.5 81,-189.5 \"/>\n<text text-anchor=\"middle\" x=\"50\" y=\"-174.3\" font-family=\"Times,serif\" font-size=\"14.00\">Dropout</text>\n<polyline fill=\"none\" stroke=\"black\" points=\"81,-166.5 81,-212.5 \"/>\n<text text-anchor=\"middle\" x=\"108.5\" y=\"-197.3\" font-family=\"Times,serif\" font-size=\"14.00\">input:</text>\n<polyline fill=\"none\" stroke=\"black\" points=\"81,-189.5 136,-189.5 \"/>\n<text text-anchor=\"middle\" x=\"108.5\" y=\"-174.3\" font-family=\"Times,serif\" font-size=\"14.00\">output:</text>\n<polyline fill=\"none\" stroke=\"black\" points=\"136,-166.5 136,-212.5 \"/>\n<text text-anchor=\"middle\" x=\"184.5\" y=\"-197.3\" font-family=\"Times,serif\" font-size=\"14.00\">(None, 80, 50)</text>\n<polyline fill=\"none\" stroke=\"black\" points=\"136,-189.5 233,-189.5 \"/>\n<text text-anchor=\"middle\" x=\"184.5\" y=\"-174.3\" font-family=\"Times,serif\" font-size=\"14.00\">(None, 80, 50)</text>\n</g>\n<!-- 139610530760016&#45;&gt;139610579123840 -->\n<g id=\"edge2\" class=\"edge\">\n<title>139610530760016-&gt;139610579123840</title>\n<path fill=\"none\" stroke=\"black\" d=\"M126,-249.37C126,-241.15 126,-231.66 126,-222.73\"/>\n<polygon fill=\"black\" stroke=\"black\" points=\"129.5,-222.61 126,-212.61 122.5,-222.61 129.5,-222.61\"/>\n</g>\n<!-- 139610530765680 -->\n<g id=\"node4\" class=\"node\">\n<title>139610530765680</title>\n<polygon fill=\"none\" stroke=\"black\" points=\"23.5,-83.5 23.5,-129.5 228.5,-129.5 228.5,-83.5 23.5,-83.5\"/>\n<text text-anchor=\"middle\" x=\"50\" y=\"-114.3\" font-family=\"Times,serif\" font-size=\"14.00\">lstm</text>\n<polyline fill=\"none\" stroke=\"black\" points=\"23.5,-106.5 76.5,-106.5 \"/>\n<text text-anchor=\"middle\" x=\"50\" y=\"-91.3\" font-family=\"Times,serif\" font-size=\"14.00\">LSTM</text>\n<polyline fill=\"none\" stroke=\"black\" points=\"76.5,-83.5 76.5,-129.5 \"/>\n<text text-anchor=\"middle\" x=\"104\" y=\"-114.3\" font-family=\"Times,serif\" font-size=\"14.00\">input:</text>\n<polyline fill=\"none\" stroke=\"black\" points=\"76.5,-106.5 131.5,-106.5 \"/>\n<text text-anchor=\"middle\" x=\"104\" y=\"-91.3\" font-family=\"Times,serif\" font-size=\"14.00\">output:</text>\n<polyline fill=\"none\" stroke=\"black\" points=\"131.5,-83.5 131.5,-129.5 \"/>\n<text text-anchor=\"middle\" x=\"180\" y=\"-114.3\" font-family=\"Times,serif\" font-size=\"14.00\">(None, 80, 50)</text>\n<polyline fill=\"none\" stroke=\"black\" points=\"131.5,-106.5 228.5,-106.5 \"/>\n<text text-anchor=\"middle\" x=\"180\" y=\"-91.3\" font-family=\"Times,serif\" font-size=\"14.00\">(None, 32)</text>\n</g>\n<!-- 139610579123840&#45;&gt;139610530765680 -->\n<g id=\"edge3\" class=\"edge\">\n<title>139610579123840-&gt;139610530765680</title>\n<path fill=\"none\" stroke=\"black\" d=\"M126,-166.37C126,-158.15 126,-148.66 126,-139.73\"/>\n<polygon fill=\"black\" stroke=\"black\" points=\"129.5,-139.61 126,-129.61 122.5,-139.61 129.5,-139.61\"/>\n</g>\n<!-- 139610530769856 -->\n<g id=\"node5\" class=\"node\">\n<title>139610530769856</title>\n<polygon fill=\"none\" stroke=\"black\" points=\"35.5,-0.5 35.5,-46.5 216.5,-46.5 216.5,-0.5 35.5,-0.5\"/>\n<text text-anchor=\"middle\" x=\"60.5\" y=\"-31.3\" font-family=\"Times,serif\" font-size=\"14.00\">dense</text>\n<polyline fill=\"none\" stroke=\"black\" points=\"35.5,-23.5 85.5,-23.5 \"/>\n<text text-anchor=\"middle\" x=\"60.5\" y=\"-8.3\" font-family=\"Times,serif\" font-size=\"14.00\">Dense</text>\n<polyline fill=\"none\" stroke=\"black\" points=\"85.5,-0.5 85.5,-46.5 \"/>\n<text text-anchor=\"middle\" x=\"113\" y=\"-31.3\" font-family=\"Times,serif\" font-size=\"14.00\">input:</text>\n<polyline fill=\"none\" stroke=\"black\" points=\"85.5,-23.5 140.5,-23.5 \"/>\n<text text-anchor=\"middle\" x=\"113\" y=\"-8.3\" font-family=\"Times,serif\" font-size=\"14.00\">output:</text>\n<polyline fill=\"none\" stroke=\"black\" points=\"140.5,-0.5 140.5,-46.5 \"/>\n<text text-anchor=\"middle\" x=\"178.5\" y=\"-31.3\" font-family=\"Times,serif\" font-size=\"14.00\">(None, 32)</text>\n<polyline fill=\"none\" stroke=\"black\" points=\"140.5,-23.5 216.5,-23.5 \"/>\n<text text-anchor=\"middle\" x=\"178.5\" y=\"-8.3\" font-family=\"Times,serif\" font-size=\"14.00\">(None, 1)</text>\n</g>\n<!-- 139610530765680&#45;&gt;139610530769856 -->\n<g id=\"edge4\" class=\"edge\">\n<title>139610530765680-&gt;139610530769856</title>\n<path fill=\"none\" stroke=\"black\" d=\"M126,-83.37C126,-75.15 126,-65.66 126,-56.73\"/>\n<polygon fill=\"black\" stroke=\"black\" points=\"129.5,-56.61 126,-46.61 122.5,-56.61 129.5,-56.61\"/>\n</g>\n</g>\n</svg>"
          },
          "metadata": {},
          "execution_count": 5
        }
      ],
      "source": [
        "SVG(model_to_dot(model, show_shapes=True).create(prog='dot', format='svg'))"
      ]
    },
    {
      "cell_type": "markdown",
      "metadata": {
        "id": "8z7QmhEKUXhA"
      },
      "source": [
        "## Aprendizagem (Treino)\n",
        "\n",
        "Agora estamos prontos para treinar nosso modelo.\n",
        "\n",
        "Lembrem-se que uma * época * significa uma passagem por todos os dados de treinamento. Note também que estamos usando uma fração dos dados de treinamento como nosso conjunto de validação.\n",
        "\n",
        "Note que as camadas LSTMs são lentas para se treinar."
      ]
    },
    {
      "cell_type": "code",
      "execution_count": 6,
      "metadata": {
        "colab": {
          "base_uri": "https://localhost:8080/"
        },
        "id": "r8kzuV1HUXhB",
        "outputId": "5a239931-9bf2-4b4c-e1ff-f0c479aee447"
      },
      "outputs": [
        {
          "output_type": "stream",
          "name": "stdout",
          "text": [
            "Epoch 1/5\n",
            "157/157 [==============================] - 18s 86ms/step - loss: 0.5718 - accuracy: 0.6837 - val_loss: 0.4410 - val_accuracy: 0.8010\n",
            "Epoch 2/5\n",
            "157/157 [==============================] - 6s 40ms/step - loss: 0.3717 - accuracy: 0.8393 - val_loss: 0.3781 - val_accuracy: 0.8258\n",
            "Epoch 3/5\n",
            "157/157 [==============================] - 3s 20ms/step - loss: 0.3064 - accuracy: 0.8743 - val_loss: 0.3535 - val_accuracy: 0.8430\n",
            "Epoch 4/5\n",
            "157/157 [==============================] - 4s 26ms/step - loss: 0.2717 - accuracy: 0.8915 - val_loss: 0.3673 - val_accuracy: 0.8396\n",
            "Epoch 5/5\n",
            "157/157 [==============================] - 3s 20ms/step - loss: 0.2446 - accuracy: 0.9036 - val_loss: 0.4702 - val_accuracy: 0.8034\n",
            "CPU times: user 24.3 s, sys: 1 s, total: 25.3 s\n",
            "Wall time: 34.9 s\n"
          ]
        }
      ],
      "source": [
        "%%time\n",
        "epochs = 5\n",
        "validation_split = 0.2\n",
        "\n",
        "history = model.fit(x_train, y_train, batch_size=128,\n",
        "          epochs=epochs,\n",
        "          validation_split=validation_split)\n"
      ]
    },
    {
      "cell_type": "markdown",
      "metadata": {
        "id": "8qlIHjvgUXhD"
      },
      "source": [
        "Vamos plotar os dados para ver como o treinamento progrediu.\n",
        "\n",
        "Obs: Se observarmos um grande gap entre os valores de precisões de treinamento e validação isso normalmente sugere overfitting."
      ]
    },
    {
      "cell_type": "code",
      "execution_count": 7,
      "metadata": {
        "colab": {
          "base_uri": "https://localhost:8080/",
          "height": 619
        },
        "id": "yvr_3Gj5UXhD",
        "outputId": "6d637d73-b545-4e1f-aa4c-23f314d87ae9"
      },
      "outputs": [
        {
          "output_type": "display_data",
          "data": {
            "text/plain": [
              "<Figure size 500x300 with 1 Axes>"
            ],
            "image/png": "[encoded data removed]"
          },
          "metadata": {}
        },
        {
          "output_type": "display_data",
          "data": {
            "text/plain": [
              "<Figure size 500x300 with 1 Axes>"
            ],
            "image/png": "[encoded data removed]"
          },
          "metadata": {}
        }
      ],
      "source": [
        "plt.figure(figsize=(5,3))\n",
        "plt.plot(history.epoch,history.history['loss'], label='training')\n",
        "plt.plot(history.epoch,history.history['val_loss'], label='validation')\n",
        "plt.title('loss')\n",
        "plt.legend(loc='best')\n",
        "\n",
        "plt.figure(figsize=(5,3))\n",
        "plt.plot(history.epoch,history.history['accuracy'], label='training')\n",
        "plt.plot(history.epoch,history.history['val_accuracy'], label='validation')\n",
        "plt.title('accuracy')\n",
        "plt.legend(loc='best');"
      ]
    },
    {
      "cell_type": "markdown",
      "metadata": {
        "id": "7I5ASZm5UXhG"
      },
      "source": [
        "## Inferências e Insights\n",
        "\n",
        "Para melhor verificarmos a qualidade do modelo calculamos então nossa acurácia para os dados de teste:"
      ]
    },
    {
      "cell_type": "code",
      "execution_count": 8,
      "metadata": {
        "colab": {
          "base_uri": "https://localhost:8080/"
        },
        "id": "iX7YM6lAUXhH",
        "outputId": "64e4f1e0-d654-4be8-9f43-f32b9dff1f56"
      },
      "outputs": [
        {
          "output_type": "stream",
          "name": "stdout",
          "text": [
            "782/782 - 2s - loss: 0.4941 - accuracy: 0.7960 - 2s/epoch - 3ms/step\n",
            "accuracy: 79.60%\n"
          ]
        }
      ],
      "source": [
        "scores = model.evaluate(x_test, y_test, verbose=2)\n",
        "print(\"%s: %.2f%%\" % (model.metrics_names[1], scores[1]*100))"
      ]
    },
    {
      "cell_type": "markdown",
      "metadata": {
        "id": "0A9XCZ8_UXhJ"
      },
      "source": [
        "---\n",
        "*Run this notebook in Google Colaboratory using [this link](https://colab.research.google.com/github/csc-training/intro-to-dl/blob/master/day1/keras-imdb-rnn.ipynb).*"
      ]
    },
    {
      "cell_type": "code",
      "source": [],
      "metadata": {
        "id": "54vWWWSDPb1c"
      },
      "execution_count": null,
      "outputs": []
    }
  ],
  "metadata": {
    "accelerator": "GPU",
    "colab": {
      "provenance": []
    },
    "kernelspec": {
      "display_name": "Python 3",
      "language": "python",
      "name": "python3"
    },
    "language_info": {
      "codemirror_mode": {
        "name": "ipython",
        "version": 3
      },
      "file_extension": ".py",
      "mimetype": "text/x-python",
      "name": "python",
      "nbconvert_exporter": "python",
      "pygments_lexer": "ipython3",
      "version": "3.7.3"
    }
  },
  "nbformat": 4,
  "nbformat_minor": 0
}