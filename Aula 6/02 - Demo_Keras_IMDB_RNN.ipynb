{
 "cells": [
  {
   "cell_type": "markdown",
   "metadata": {
    "colab_type": "text",
    "id": "-qAGWGzAUXgv"
   },
   "source": [
    "# Classificação de sentimento em reviews de filmes com base do IMDB via RNNs (Recurrent Neural Networks)\n",
    "\n",
    "Neste notebook iremos treinar uma Rede Neural Recorrent (RNN) para classificação de sentimento usando Keras (com Tensorflow como backend). Primeiro, vamos às importações necessárias e a posteriore o Keras nos diz qual backend (Theano, Tensorflow, CNTK) ele estará usando."
   ]
  },
  {
   "cell_type": "code",
   "execution_count": 2,
   "metadata": {
    "colab": {
     "base_uri": "https://localhost:8080/",
     "height": 51
    },
    "colab_type": "code",
    "id": "h4oRcDCaUXgx",
    "outputId": "2ed21344-cefe-423e-e51b-1dd0f44a8054"
   },
   "outputs": [
    {
     "name": "stderr",
     "output_type": "stream",
     "text": [
      "Using TensorFlow backend.\n"
     ]
    },
    {
     "name": "stdout",
     "output_type": "stream",
     "text": [
      "Using Keras version: 2.2.4 backend: tensorflow\n"
     ]
    }
   ],
   "source": [
    "%matplotlib inline\n",
    "\n",
    "from keras.preprocessing import sequence\n",
    "from keras.models import Sequential\n",
    "from keras.layers import Dense, Embedding, Dropout\n",
    "from keras.layers import LSTM, CuDNNLSTM\n",
    "from keras.datasets import imdb\n",
    "\n",
    "from distutils.version import LooseVersion as LV\n",
    "from keras import __version__\n",
    "from keras import backend as K\n",
    "\n",
    "from IPython.display import SVG\n",
    "from keras.utils.vis_utils import model_to_dot\n",
    "\n",
    "import numpy as np\n",
    "import matplotlib.pyplot as plt\n",
    "import seaborn as sns\n",
    "sns.set()\n",
    "\n",
    "print('Using Keras version:', __version__, 'backend:', K.backend())\n",
    "assert(LV(__version__) >= LV(\"2.0.0\"))"
   ]
  },
  {
   "cell_type": "markdown",
   "metadata": {
    "colab_type": "text",
    "id": "K7yp39afUXg1"
   },
   "source": [
    "## Base de dados do IMDB (https://www.kaggle.com/iarunava/imdb-movie-reviews-dataset) \n",
    "\n",
    "Em seguida, carregaremos o conjunto de dados do IMDB. Na primeira vez, talvez tenhamos que baixar os dados, o que pode demorar um pouco. O conjunto de dados contém 50000 avaliações de filmes do Internet Movie Database, dividido em 25.000 avaliações para treinamento e 25.000 avaliações para testes. Metade dos comentários são positivos (1) e metade são negativos (0).\n",
    "\n",
    "O conjunto de dados já foi pré-processado e cada palavra foi substituída por um índice inteiro.\n",
    "\n",
    "As revisões são, portanto, representadas como sequências de comprimento variável de inteiros, como consta:\n",
    "\n",
    "(Os índices de palavras começam em \"3\", como \"1\" é usado para marcar o início de uma revisão e \"2\" representa todas as palavras fora do vocabulário existente. \"0\" será usado posteriormente para preencher comentários mais curtos em um tamanho fixo .)\n",
    "\n",
    "\n",
    "* Mais informações e créditos originais:\n",
    "\n",
    "Maas, Andrew L. and Daly, Raymond E. and Pham, Peter T. and Huang, Dan and Ng, Andrew Y. and Potts, Christopher, \"Learning Word Vectors for Sentiment Analysis\", em Proceedings of the 49th Annual Meeting of the Association for Computational Linguistics: Human Language Technologies, June, 2011. Portland, Oregon, USA. Association for Computational Linguistics. Pages 142 a150. Disponível em: http://www.aclweb.org/anthology/P11-1015"
   ]
  },
  {
   "cell_type": "code",
   "execution_count": 3,
   "metadata": {
    "colab": {
     "base_uri": "https://localhost:8080/",
     "height": 170
    },
    "colab_type": "code",
    "id": "lrzgGTpsUXg2",
    "outputId": "0936a69f-cff4-45ea-df5a-60a4284141aa"
   },
   "outputs": [
    {
     "name": "stdout",
     "output_type": "stream",
     "text": [
      "Carregando...\n",
      "Downloading data from https://s3.amazonaws.com/text-datasets/imdb.npz\n",
      "17465344/17464789 [==============================] - 5s 0us/step\n",
      "x_train: (25000,)\n",
      "x_test: (25000,)\n",
      "\n",
      "Sequencias (samples x time)\n",
      "x_train shape: (25000, 80)\n",
      "x_test shape: (25000, 80)\n"
     ]
    }
   ],
   "source": [
    "# número de palavras mais frequentes para se utilizar:\n",
    "\n",
    "nb_words = 10000\n",
    "\n",
    "# cortar textos a partir do seguinte número de palavras (maxlenght):\n",
    "\n",
    "maxlen = 80\n",
    "\n",
    "print('Carregando...')\n",
    "(x_train, y_train), (x_test, y_test) = imdb.load_data(num_words=nb_words)\n",
    "print('x_train:', x_train.shape)\n",
    "print('x_test:', x_test.shape)\n",
    "print()\n",
    "\n",
    "print('Sequencias (samples x time)')\n",
    "x_train = sequence.pad_sequences(x_train, maxlen=maxlen)\n",
    "x_test = sequence.pad_sequences(x_test, maxlen=maxlen)\n",
    "print('x_train shape:', x_train.shape)\n",
    "print('x_test shape:', x_test.shape)"
   ]
  },
  {
   "cell_type": "markdown",
   "metadata": {
    "colab_type": "text",
    "id": "yXWrBa2pUXg4"
   },
   "source": [
    "Mostrando nosso primeiro review no set de treinamento:"
   ]
  },
  {
   "cell_type": "code",
   "execution_count": 3,
   "metadata": {
    "colab": {
     "base_uri": "https://localhost:8080/",
     "height": 153
    },
    "colab_type": "code",
    "id": "NyMoRVNjUXg5",
    "outputId": "06b20e09-f4d0-4e1c-d923-02be80f4b352"
   },
   "outputs": [
    {
     "name": "stdout",
     "output_type": "stream",
     "text": [
      "Primeiro review no set de treinamento:\n",
      " \n",
      " [  15  256    4    2    7 3766    5  723   36   71   43  530  476   26\n",
      "  400  317   46    7    4    2 1029   13  104   88    4  381   15  297\n",
      "   98   32 2071   56   26  141    6  194 7486   18    4  226   22   21\n",
      "  134  476   26  480    5  144   30 5535   18   51   36   28  224   92\n",
      "   25  104    4  226   65   16   38 1334   88   12   16  283    5   16\n",
      " 4472  113  103   32   15   16 5345   19  178   32] comprimento: 80 classe: 1\n"
     ]
    }
   ],
   "source": [
    "print(\"Primeiro review no set de treinamento:\\n \\n\", x_train[0], \"comprimento:\", len(x_train[0]), \"classe:\", y_train[0])"
   ]
  },
  {
   "cell_type": "markdown",
   "metadata": {
    "colab_type": "text",
    "id": "V4HY7sH2UXg7"
   },
   "source": [
    "## Inicialização\n",
    "\n",
    "Vamos criar um modelo RNN que tenha uma (ou, opcionalmente, duas) camadas LSTM e de Dropout. \n",
    "\n",
    "A primeira camada na rede é uma camada de Embedding que converte índices inteiros em vetores densos de comprimento ´embedding_dims`. A camada de saída contém um único neurônio e uma não-linearidade do tipo sigmóide para coincidir com a groundtruth binária (`y_train`).\n",
    "\n",
    "Finalmente, nós `compilamos ()` o modelo, usando entropia cruzada binária como a função de perda e [* RMSprop *] (https://keras.io/optimizers/#rmsprop) como otimizador."
   ]
  },
  {
   "cell_type": "code",
   "execution_count": 4,
   "metadata": {
    "colab": {
     "base_uri": "https://localhost:8080/",
     "height": 408
    },
    "colab_type": "code",
    "id": "OaD2LN7dUXg8",
    "outputId": "a1f2486c-3d81-4f26-c113-92c89fe85972"
   },
   "outputs": [
    {
     "name": "stdout",
     "output_type": "stream",
     "text": [
      "Construindo nosso modelo...\n",
      "WARNING:tensorflow:From /usr/local/lib/python3.6/dist-packages/tensorflow/python/framework/op_def_library.py:263: colocate_with (from tensorflow.python.framework.ops) is deprecated and will be removed in a future version.\n",
      "Instructions for updating:\n",
      "Colocations handled automatically by placer.\n",
      "WARNING:tensorflow:From /usr/local/lib/python3.6/dist-packages/keras/backend/tensorflow_backend.py:3445: calling dropout (from tensorflow.python.ops.nn_ops) with keep_prob is deprecated and will be removed in a future version.\n",
      "Instructions for updating:\n",
      "Please use `rate` instead of `keep_prob`. Rate should be set to `rate = 1 - keep_prob`.\n",
      "_________________________________________________________________\n",
      "Layer (type)                 Output Shape              Param #   \n",
      "=================================================================\n",
      "embedding_1 (Embedding)      (None, 80, 50)            500000    \n",
      "_________________________________________________________________\n",
      "dropout_1 (Dropout)          (None, 80, 50)            0         \n",
      "_________________________________________________________________\n",
      "lstm_1 (LSTM)                (None, 32)                10624     \n",
      "_________________________________________________________________\n",
      "dense_1 (Dense)              (None, 1)                 33        \n",
      "=================================================================\n",
      "Total params: 510,657\n",
      "Trainable params: 510,657\n",
      "Non-trainable params: 0\n",
      "_________________________________________________________________\n",
      "None\n"
     ]
    }
   ],
   "source": [
    "# Parâmetros do modelo:\n",
    "\n",
    "embedding_dims = 50\n",
    "lstm_units = 32\n",
    "\n",
    "print('Construindo nosso modelo...')\n",
    "model = Sequential()\n",
    "\n",
    "model.add(Embedding(nb_words,\n",
    "                    embedding_dims,\n",
    "                    input_length=maxlen))\n",
    "model.add(Dropout(0.2))\n",
    "\n",
    "#se estiver executando sem GPU:\n",
    "\n",
    "model.add(LSTM(lstm_units))\n",
    "\n",
    "# se estiver executando numa GPU:\n",
    "\n",
    "#model.add(CuDNNLSTM(lstm_units, return_sequences=True))\n",
    "\n",
    "# Para empilhar várias camadas RNN, todas as camadas RNN, exceto a última\n",
    "# precisam ter \"return_sequences = True\". Um exemplo de uso de duas camadas RNN:\n",
    "\n",
    "#model.add(LSTM(lstm_units, return_sequences=True))\n",
    "#model.add(LSTM(lstm_units))\n",
    "\n",
    "model.add(Dense(1, activation='sigmoid'))\n",
    "\n",
    "# Tentem utilizar outros otimizadores e configurações\n",
    "# Me mandem os resultados obtidos como atividade avaliativa (ATV 3)\n",
    "\n",
    "model.compile(loss='binary_crossentropy',\n",
    "              optimizer='rmsprop',\n",
    "              metrics=['accuracy'])\n",
    "print(model.summary())"
   ]
  },
  {
   "cell_type": "code",
   "execution_count": 5,
   "metadata": {
    "colab": {
     "base_uri": "https://localhost:8080/",
     "height": 524
    },
    "colab_type": "code",
    "id": "pQIbt-yGUXg-",
    "outputId": "9e4eb83b-68b3-40c7-dfca-3abd85087db4"
   },
   "outputs": [
    {
     "data": {
      "image/svg+xml": [
       "<svg height=\"377pt\" viewBox=\"0.00 0.00 339.00 377.00\" width=\"339pt\" xmlns=\"http://www.w3.org/2000/svg\" xmlns:xlink=\"http://www.w3.org/1999/xlink\">\n",
       "<g class=\"graph\" id=\"graph0\" transform=\"scale(1 1) rotate(0) translate(4 373)\">\n",
       "<title>G</title>\n",
       "<polygon fill=\"#ffffff\" points=\"-4,4 -4,-373 335,-373 335,4 -4,4\" stroke=\"transparent\"/>\n",
       "<!-- 140143304863472 -->\n",
       "<g class=\"node\" id=\"node1\">\n",
       "<title>140143304863472</title>\n",
       "<polygon fill=\"none\" points=\"0,-249.5 0,-295.5 331,-295.5 331,-249.5 0,-249.5\" stroke=\"#000000\"/>\n",
       "<text fill=\"#000000\" font-family=\"Times,serif\" font-size=\"14.00\" text-anchor=\"middle\" x=\"85.5\" y=\"-268.8\">embedding_1: Embedding</text>\n",
       "<polyline fill=\"none\" points=\"171,-249.5 171,-295.5 \" stroke=\"#000000\"/>\n",
       "<text fill=\"#000000\" font-family=\"Times,serif\" font-size=\"14.00\" text-anchor=\"middle\" x=\"200\" y=\"-280.3\">input:</text>\n",
       "<polyline fill=\"none\" points=\"171,-272.5 229,-272.5 \" stroke=\"#000000\"/>\n",
       "<text fill=\"#000000\" font-family=\"Times,serif\" font-size=\"14.00\" text-anchor=\"middle\" x=\"200\" y=\"-257.3\">output:</text>\n",
       "<polyline fill=\"none\" points=\"229,-249.5 229,-295.5 \" stroke=\"#000000\"/>\n",
       "<text fill=\"#000000\" font-family=\"Times,serif\" font-size=\"14.00\" text-anchor=\"middle\" x=\"280\" y=\"-280.3\">(None, 80)</text>\n",
       "<polyline fill=\"none\" points=\"229,-272.5 331,-272.5 \" stroke=\"#000000\"/>\n",
       "<text fill=\"#000000\" font-family=\"Times,serif\" font-size=\"14.00\" text-anchor=\"middle\" x=\"280\" y=\"-257.3\">(None, 80, 50)</text>\n",
       "</g>\n",
       "<!-- 140143602350904 -->\n",
       "<g class=\"node\" id=\"node2\">\n",
       "<title>140143602350904</title>\n",
       "<polygon fill=\"none\" points=\"18.5,-166.5 18.5,-212.5 312.5,-212.5 312.5,-166.5 18.5,-166.5\" stroke=\"#000000\"/>\n",
       "<text fill=\"#000000\" font-family=\"Times,serif\" font-size=\"14.00\" text-anchor=\"middle\" x=\"85.5\" y=\"-185.8\">dropout_1: Dropout</text>\n",
       "<polyline fill=\"none\" points=\"152.5,-166.5 152.5,-212.5 \" stroke=\"#000000\"/>\n",
       "<text fill=\"#000000\" font-family=\"Times,serif\" font-size=\"14.00\" text-anchor=\"middle\" x=\"181.5\" y=\"-197.3\">input:</text>\n",
       "<polyline fill=\"none\" points=\"152.5,-189.5 210.5,-189.5 \" stroke=\"#000000\"/>\n",
       "<text fill=\"#000000\" font-family=\"Times,serif\" font-size=\"14.00\" text-anchor=\"middle\" x=\"181.5\" y=\"-174.3\">output:</text>\n",
       "<polyline fill=\"none\" points=\"210.5,-166.5 210.5,-212.5 \" stroke=\"#000000\"/>\n",
       "<text fill=\"#000000\" font-family=\"Times,serif\" font-size=\"14.00\" text-anchor=\"middle\" x=\"261.5\" y=\"-197.3\">(None, 80, 50)</text>\n",
       "<polyline fill=\"none\" points=\"210.5,-189.5 312.5,-189.5 \" stroke=\"#000000\"/>\n",
       "<text fill=\"#000000\" font-family=\"Times,serif\" font-size=\"14.00\" text-anchor=\"middle\" x=\"261.5\" y=\"-174.3\">(None, 80, 50)</text>\n",
       "</g>\n",
       "<!-- 140143304863472&#45;&gt;140143602350904 -->\n",
       "<g class=\"edge\" id=\"edge2\">\n",
       "<title>140143304863472-&gt;140143602350904</title>\n",
       "<path d=\"M165.5,-249.3799C165.5,-241.1745 165.5,-231.7679 165.5,-222.8786\" fill=\"none\" stroke=\"#000000\"/>\n",
       "<polygon fill=\"#000000\" points=\"169.0001,-222.784 165.5,-212.784 162.0001,-222.784 169.0001,-222.784\" stroke=\"#000000\"/>\n",
       "</g>\n",
       "<!-- 140141882193288 -->\n",
       "<g class=\"node\" id=\"node3\">\n",
       "<title>140141882193288</title>\n",
       "<polygon fill=\"none\" points=\"34.5,-83.5 34.5,-129.5 296.5,-129.5 296.5,-83.5 34.5,-83.5\" stroke=\"#000000\"/>\n",
       "<text fill=\"#000000\" font-family=\"Times,serif\" font-size=\"14.00\" text-anchor=\"middle\" x=\"85.5\" y=\"-102.8\">lstm_1: LSTM</text>\n",
       "<polyline fill=\"none\" points=\"136.5,-83.5 136.5,-129.5 \" stroke=\"#000000\"/>\n",
       "<text fill=\"#000000\" font-family=\"Times,serif\" font-size=\"14.00\" text-anchor=\"middle\" x=\"165.5\" y=\"-114.3\">input:</text>\n",
       "<polyline fill=\"none\" points=\"136.5,-106.5 194.5,-106.5 \" stroke=\"#000000\"/>\n",
       "<text fill=\"#000000\" font-family=\"Times,serif\" font-size=\"14.00\" text-anchor=\"middle\" x=\"165.5\" y=\"-91.3\">output:</text>\n",
       "<polyline fill=\"none\" points=\"194.5,-83.5 194.5,-129.5 \" stroke=\"#000000\"/>\n",
       "<text fill=\"#000000\" font-family=\"Times,serif\" font-size=\"14.00\" text-anchor=\"middle\" x=\"245.5\" y=\"-114.3\">(None, 80, 50)</text>\n",
       "<polyline fill=\"none\" points=\"194.5,-106.5 296.5,-106.5 \" stroke=\"#000000\"/>\n",
       "<text fill=\"#000000\" font-family=\"Times,serif\" font-size=\"14.00\" text-anchor=\"middle\" x=\"245.5\" y=\"-91.3\">(None, 32)</text>\n",
       "</g>\n",
       "<!-- 140143602350904&#45;&gt;140141882193288 -->\n",
       "<g class=\"edge\" id=\"edge3\">\n",
       "<title>140143602350904-&gt;140141882193288</title>\n",
       "<path d=\"M165.5,-166.3799C165.5,-158.1745 165.5,-148.7679 165.5,-139.8786\" fill=\"none\" stroke=\"#000000\"/>\n",
       "<polygon fill=\"#000000\" points=\"169.0001,-139.784 165.5,-129.784 162.0001,-139.784 169.0001,-139.784\" stroke=\"#000000\"/>\n",
       "</g>\n",
       "<!-- 140141882193456 -->\n",
       "<g class=\"node\" id=\"node4\">\n",
       "<title>140141882193456</title>\n",
       "<polygon fill=\"none\" points=\"43,-.5 43,-46.5 288,-46.5 288,-.5 43,-.5\" stroke=\"#000000\"/>\n",
       "<text fill=\"#000000\" font-family=\"Times,serif\" font-size=\"14.00\" text-anchor=\"middle\" x=\"96.5\" y=\"-19.8\">dense_1: Dense</text>\n",
       "<polyline fill=\"none\" points=\"150,-.5 150,-46.5 \" stroke=\"#000000\"/>\n",
       "<text fill=\"#000000\" font-family=\"Times,serif\" font-size=\"14.00\" text-anchor=\"middle\" x=\"179\" y=\"-31.3\">input:</text>\n",
       "<polyline fill=\"none\" points=\"150,-23.5 208,-23.5 \" stroke=\"#000000\"/>\n",
       "<text fill=\"#000000\" font-family=\"Times,serif\" font-size=\"14.00\" text-anchor=\"middle\" x=\"179\" y=\"-8.3\">output:</text>\n",
       "<polyline fill=\"none\" points=\"208,-.5 208,-46.5 \" stroke=\"#000000\"/>\n",
       "<text fill=\"#000000\" font-family=\"Times,serif\" font-size=\"14.00\" text-anchor=\"middle\" x=\"248\" y=\"-31.3\">(None, 32)</text>\n",
       "<polyline fill=\"none\" points=\"208,-23.5 288,-23.5 \" stroke=\"#000000\"/>\n",
       "<text fill=\"#000000\" font-family=\"Times,serif\" font-size=\"14.00\" text-anchor=\"middle\" x=\"248\" y=\"-8.3\">(None, 1)</text>\n",
       "</g>\n",
       "<!-- 140141882193288&#45;&gt;140141882193456 -->\n",
       "<g class=\"edge\" id=\"edge4\">\n",
       "<title>140141882193288-&gt;140141882193456</title>\n",
       "<path d=\"M165.5,-83.3799C165.5,-75.1745 165.5,-65.7679 165.5,-56.8786\" fill=\"none\" stroke=\"#000000\"/>\n",
       "<polygon fill=\"#000000\" points=\"169.0001,-56.784 165.5,-46.784 162.0001,-56.784 169.0001,-56.784\" stroke=\"#000000\"/>\n",
       "</g>\n",
       "<!-- 140141882192392 -->\n",
       "<g class=\"node\" id=\"node5\">\n",
       "<title>140141882192392</title>\n",
       "<polygon fill=\"none\" points=\"101,-332.5 101,-368.5 230,-368.5 230,-332.5 101,-332.5\" stroke=\"#000000\"/>\n",
       "<text fill=\"#000000\" font-family=\"Times,serif\" font-size=\"14.00\" text-anchor=\"middle\" x=\"165.5\" y=\"-346.8\">140141882192392</text>\n",
       "</g>\n",
       "<!-- 140141882192392&#45;&gt;140143304863472 -->\n",
       "<g class=\"edge\" id=\"edge1\">\n",
       "<title>140141882192392-&gt;140143304863472</title>\n",
       "<path d=\"M165.5,-332.4092C165.5,-324.4308 165.5,-314.795 165.5,-305.606\" fill=\"none\" stroke=\"#000000\"/>\n",
       "<polygon fill=\"#000000\" points=\"169.0001,-305.5333 165.5,-295.5333 162.0001,-305.5334 169.0001,-305.5333\" stroke=\"#000000\"/>\n",
       "</g>\n",
       "</g>\n",
       "</svg>"
      ],
      "text/plain": [
       "<IPython.core.display.SVG object>"
      ]
     },
     "execution_count": 5,
     "metadata": {
      "tags": []
     },
     "output_type": "execute_result"
    }
   ],
   "source": [
    "SVG(model_to_dot(model, show_shapes=True).create(prog='dot', format='svg'))"
   ]
  },
  {
   "cell_type": "markdown",
   "metadata": {
    "colab_type": "text",
    "id": "8z7QmhEKUXhA"
   },
   "source": [
    "## Aprendizagem (Treino)\n",
    "\n",
    "Agora estamos prontos para treinar nosso modelo. \n",
    "\n",
    "Lembrem-se que uma * época * significa uma passagem por todos os dados de treinamento. Note também que estamos usando uma fração dos dados de treinamento como nosso conjunto de validação.\n",
    "\n",
    "Note que as camadas LSTMs são lentas para se treinar."
   ]
  },
  {
   "cell_type": "code",
   "execution_count": 6,
   "metadata": {
    "colab": {
     "base_uri": "https://localhost:8080/",
     "height": 289
    },
    "colab_type": "code",
    "id": "r8kzuV1HUXhB",
    "outputId": "83e1b20e-2405-4958-9646-3fea252a4318"
   },
   "outputs": [
    {
     "name": "stdout",
     "output_type": "stream",
     "text": [
      "WARNING:tensorflow:From /usr/local/lib/python3.6/dist-packages/tensorflow/python/ops/math_ops.py:3066: to_int32 (from tensorflow.python.ops.math_ops) is deprecated and will be removed in a future version.\n",
      "Instructions for updating:\n",
      "Use tf.cast instead.\n",
      "Train on 20000 samples, validate on 5000 samples\n",
      "Epoch 1/5\n",
      "20000/20000 [==============================] - 52s 3ms/step - loss: 0.5158 - acc: 0.7449 - val_loss: 0.4521 - val_acc: 0.7898\n",
      "Epoch 2/5\n",
      "20000/20000 [==============================] - 49s 2ms/step - loss: 0.3294 - acc: 0.8621 - val_loss: 0.3521 - val_acc: 0.8420\n",
      "Epoch 3/5\n",
      "20000/20000 [==============================] - 47s 2ms/step - loss: 0.2766 - acc: 0.8885 - val_loss: 0.3765 - val_acc: 0.8308\n",
      "Epoch 4/5\n",
      "20000/20000 [==============================] - 30s 1ms/step - loss: 0.2500 - acc: 0.8996 - val_loss: 0.3558 - val_acc: 0.8424\n",
      "Epoch 5/5\n",
      "20000/20000 [==============================] - 42s 2ms/step - loss: 0.2298 - acc: 0.9095 - val_loss: 0.3885 - val_acc: 0.8438\n",
      "CPU times: user 3min 3s, sys: 10.2 s, total: 3min 13s\n",
      "Wall time: 3min 41s\n"
     ]
    }
   ],
   "source": [
    "%%time\n",
    "epochs = 5\n",
    "validation_split = 0.2\n",
    "\n",
    "history = model.fit(x_train, y_train, batch_size=128,\n",
    "          epochs=epochs, \n",
    "          validation_split=validation_split)\n"
   ]
  },
  {
   "cell_type": "markdown",
   "metadata": {
    "colab_type": "text",
    "id": "8qlIHjvgUXhD"
   },
   "source": [
    "Vamos plotar os dados para ver como o treinamento progrediu. \n",
    "\n",
    "Obs: Se observarmos um grande gap entre os valores de precisões de treinamento e validação isso normalmente sugere overfitting."
   ]
  },
  {
   "cell_type": "code",
   "execution_count": 7,
   "metadata": {
    "colab": {
     "base_uri": "https://localhost:8080/",
     "height": 435
    },
    "colab_type": "code",
    "id": "yvr_3Gj5UXhD",
    "outputId": "27c617c7-418b-47f9-80f7-83ec2e59d399"
   },
   "outputs": [
    {
     "data": {
      "image/png": "[encoded data removed]",
      "text/plain": [
       "<Figure size 360x216 with 1 Axes>"
      ]
     },
     "metadata": {
      "tags": []
     },
     "output_type": "display_data"
    },
    {
     "data": {
      "image/png": "[encoded data removed]",
      "text/plain": [
       "<Figure size 360x216 with 1 Axes>"
      ]
     },
     "metadata": {
      "tags": []
     },
     "output_type": "display_data"
    }
   ],
   "source": [
    "plt.figure(figsize=(5,3))\n",
    "plt.plot(history.epoch,history.history['loss'], label='training')\n",
    "plt.plot(history.epoch,history.history['val_loss'], label='validation')\n",
    "plt.title('loss')\n",
    "plt.legend(loc='best')\n",
    "\n",
    "plt.figure(figsize=(5,3))\n",
    "plt.plot(history.epoch,history.history['acc'], label='training')\n",
    "plt.plot(history.epoch,history.history['val_acc'], label='validation')\n",
    "plt.title('accuracy')\n",
    "plt.legend(loc='best');"
   ]
  },
  {
   "cell_type": "markdown",
   "metadata": {
    "colab_type": "text",
    "id": "7I5ASZm5UXhG"
   },
   "source": [
    "## Inferências e Insights\n",
    "\n",
    "Para melhor verificarmos a qualidade do modelo calculamos então nossa acurácia para os dados de teste:"
   ]
  },
  {
   "cell_type": "code",
   "execution_count": 8,
   "metadata": {
    "colab": {
     "base_uri": "https://localhost:8080/",
     "height": 34
    },
    "colab_type": "code",
    "id": "iX7YM6lAUXhH",
    "outputId": "0808167a-8610-45ca-e1f2-91e84c99745f"
   },
   "outputs": [
    {
     "name": "stdout",
     "output_type": "stream",
     "text": [
      "acc: 83.68%\n"
     ]
    }
   ],
   "source": [
    "scores = model.evaluate(x_test, y_test, verbose=2)\n",
    "print(\"%s: %.2f%%\" % (model.metrics_names[1], scores[1]*100))"
   ]
  },
  {
   "cell_type": "markdown",
   "metadata": {
    "colab_type": "text",
    "id": "0A9XCZ8_UXhJ"
   },
   "source": [
    "---\n",
    "*Run this notebook in Google Colaboratory using [this link](https://colab.research.google.com/github/csc-training/intro-to-dl/blob/master/day1/keras-imdb-rnn.ipynb).*"
   ]
  }
 ],
 "metadata": {
  "accelerator": "GPU",
  "colab": {
   "collapsed_sections": [],
   "name": "4_Demo_Keras_IMDB_RNN.ipynb",
   "provenance": [],
   "version": "0.3.2"
  },
  "kernelspec": {
   "display_name": "Python 3",
   "language": "python",
   "name": "python3"
  },
  "language_info": {
   "codemirror_mode": {
    "name": "ipython",
    "version": 3
   },
   "file_extension": ".py",
   "mimetype": "text/x-python",
   "name": "python",
   "nbconvert_exporter": "python",
   "pygments_lexer": "ipython3",
   "version": "3.7.3"
  }
 },
 "nbformat": 4,
 "nbformat_minor": 1
}
